{
  "nbformat": 4,
  "nbformat_minor": 0,
  "metadata": {
    "colab": {
      "name": "Convert log into CSV_Data Cleaning.ipynb",
      "provenance": [],
      "collapsed_sections": []
    },
    "kernelspec": {
      "display_name": "Python 3",
      "name": "python3"
    },
    "language_info": {
      "name": "python"
    }
  },
  "cells": [
    {
      "cell_type": "code",
      "metadata": {
        "id": "Uej07gevDnnp",
        "colab": {
          "base_uri": "https://localhost:8080/"
        },
        "outputId": "fa2606ff-e3d5-4dcd-8534-2dfa3341cb47"
      },
      "source": [
        "# mount drive into colab\n",
        "from google.colab import drive\n",
        "drive.mount('/content/drive', force_remount=True)"
      ],
      "execution_count": null,
      "outputs": [
        {
          "output_type": "stream",
          "text": [
            "Mounted at /content/drive\n"
          ],
          "name": "stdout"
        }
      ]
    },
    {
      "cell_type": "code",
      "metadata": {
        "colab": {
          "base_uri": "https://localhost:8080/"
        },
        "id": "TJQ0PT_7FXtY",
        "outputId": "312955d2-c010-49f4-d3a9-33c543335136"
      },
      "source": [
        "# change directory\n",
        "# For Marzieh\n",
        "#%cd '/content/drive/MyDrive/Rahnema-College-Team'\n",
        "\n",
        "# For Sanaz\n",
        "%cd '/content/drive/MyDrive/Rahnema/Rahnema-College-Team'"
      ],
      "execution_count": null,
      "outputs": [
        {
          "output_type": "stream",
          "text": [
            "/content/drive/.shortcut-targets-by-id/1mN07jhPqKcfkME6GxvaJOdBZWSwOA7AN/Rahnema-College-Team\n"
          ],
          "name": "stdout"
        }
      ]
    },
    {
      "cell_type": "code",
      "metadata": {
        "id": "ZTIRiyTiFaKU"
      },
      "source": [
        "# unzip the log file\n",
        "#!gzip -d output.log.gz"
      ],
      "execution_count": null,
      "outputs": []
    },
    {
      "cell_type": "markdown",
      "metadata": {
        "id": "8aH6iZYMGA7A"
      },
      "source": [
        "***\n",
        "# Imports"
      ]
    },
    {
      "cell_type": "code",
      "metadata": {
        "id": "zOgrb_DqQr68"
      },
      "source": [
        "%%capture\n",
        "!pip install pyyaml ua-parser user-agents\n",
        "!pip install maxminddb-geolite2"
      ],
      "execution_count": null,
      "outputs": []
    },
    {
      "cell_type": "code",
      "metadata": {
        "id": "GbRM3WxjGDMV"
      },
      "source": [
        "import pandas as pd\n",
        "pd.options.display.max_columns = None\n",
        "import re\n",
        "from datetime import datetime\n",
        "from user_agents import parse\n",
        "from sklearn.preprocessing import OrdinalEncoder\n",
        "from geolite2 import geolite2"
      ],
      "execution_count": null,
      "outputs": []
    },
    {
      "cell_type": "markdown",
      "metadata": {
        "id": "uBHvJq5HGGZF"
      },
      "source": [
        "***\n",
        "# Read Log File"
      ]
    },
    {
      "cell_type": "code",
      "metadata": {
        "id": "j2JbrXnQGGFc"
      },
      "source": [
        "# name of the columns\n",
        "columns = ['ip', 'datetime', 'method', 'request', 'status', 'size', 'agent_time']"
      ],
      "execution_count": null,
      "outputs": []
    },
    {
      "cell_type": "code",
      "metadata": {
        "id": "WIaWugUDGJfz"
      },
      "source": [
        "# read log file and load it into a dataframe\n",
        "def logs_to_df(logfile):\n",
        "  \n",
        "  with open(logfile) as source_file:\n",
        "    lines = source_file.readlines()\n",
        "    parsed_lines = []\n",
        "    \n",
        "    for i,line in enumerate(lines):\n",
        "      parsed_lines.append(line.split(' ', 6))\n",
        "  \n",
        "  return pd.DataFrame(parsed_lines, columns=columns)"
      ],
      "execution_count": null,
      "outputs": []
    },
    {
      "cell_type": "code",
      "metadata": {
        "id": "9_trvA-IGNRF",
        "colab": {
          "base_uri": "https://localhost:8080/",
          "height": 205
        },
        "outputId": "450c6729-0007-4597-c8bc-66b067c4f9d3"
      },
      "source": [
        "df = logs_to_df(logfile='output.log')\n",
        "df.head()"
      ],
      "execution_count": null,
      "outputs": [
        {
          "output_type": "execute_result",
          "data": {
            "text/html": [
              "<div>\n",
              "<style scoped>\n",
              "    .dataframe tbody tr th:only-of-type {\n",
              "        vertical-align: middle;\n",
              "    }\n",
              "\n",
              "    .dataframe tbody tr th {\n",
              "        vertical-align: top;\n",
              "    }\n",
              "\n",
              "    .dataframe thead th {\n",
              "        text-align: right;\n",
              "    }\n",
              "</style>\n",
              "<table border=\"1\" class=\"dataframe\">\n",
              "  <thead>\n",
              "    <tr style=\"text-align: right;\">\n",
              "      <th></th>\n",
              "      <th>ip</th>\n",
              "      <th>datetime</th>\n",
              "      <th>method</th>\n",
              "      <th>request</th>\n",
              "      <th>status</th>\n",
              "      <th>size</th>\n",
              "      <th>agent_time</th>\n",
              "    </tr>\n",
              "  </thead>\n",
              "  <tbody>\n",
              "    <tr>\n",
              "      <th>0</th>\n",
              "      <td>207.213.193.143</td>\n",
              "      <td>[2021-5-12T5:6:0.0+0430]</td>\n",
              "      <td>[Get</td>\n",
              "      <td>/cdn/profiles/1026106239]</td>\n",
              "      <td>304</td>\n",
              "      <td>0</td>\n",
              "      <td>[[Googlebot-Image/1.0]] 32\\n</td>\n",
              "    </tr>\n",
              "    <tr>\n",
              "      <th>1</th>\n",
              "      <td>207.213.193.143</td>\n",
              "      <td>[2021-5-12T5:6:0.0+0430]</td>\n",
              "      <td>[Get</td>\n",
              "      <td>images/badge.png]</td>\n",
              "      <td>304</td>\n",
              "      <td>0</td>\n",
              "      <td>[[Googlebot-Image/1.0]] 4\\n</td>\n",
              "    </tr>\n",
              "    <tr>\n",
              "      <th>2</th>\n",
              "      <td>35.110.222.153</td>\n",
              "      <td>[2021-5-12T5:6:0.0+0430]</td>\n",
              "      <td>[Get</td>\n",
              "      <td>/pages/630180847]</td>\n",
              "      <td>200</td>\n",
              "      <td>52567</td>\n",
              "      <td>[[Mozilla/5.0 (Linux; Android 6.0.1; SAMSUNG S...</td>\n",
              "    </tr>\n",
              "    <tr>\n",
              "      <th>3</th>\n",
              "      <td>35.108.208.99</td>\n",
              "      <td>[2021-5-12T5:6:0.0+0430]</td>\n",
              "      <td>[Get</td>\n",
              "      <td>images/fav_icon2.ico]</td>\n",
              "      <td>200</td>\n",
              "      <td>23531</td>\n",
              "      <td>[[Mozilla/5.0 (Linux; Android 6.0; CAM-L21) Ap...</td>\n",
              "    </tr>\n",
              "    <tr>\n",
              "      <th>4</th>\n",
              "      <td>35.110.222.153</td>\n",
              "      <td>[2021-5-12T5:6:0.0+0430]</td>\n",
              "      <td>[Get</td>\n",
              "      <td>images/sanjagh_logo_purpule5.png]</td>\n",
              "      <td>200</td>\n",
              "      <td>4680</td>\n",
              "      <td>[[Mozilla/5.0 (Linux; Android 6.0.1; SAMSUNG S...</td>\n",
              "    </tr>\n",
              "  </tbody>\n",
              "</table>\n",
              "</div>"
            ],
            "text/plain": [
              "                ip                  datetime method  \\\n",
              "0  207.213.193.143  [2021-5-12T5:6:0.0+0430]   [Get   \n",
              "1  207.213.193.143  [2021-5-12T5:6:0.0+0430]   [Get   \n",
              "2   35.110.222.153  [2021-5-12T5:6:0.0+0430]   [Get   \n",
              "3    35.108.208.99  [2021-5-12T5:6:0.0+0430]   [Get   \n",
              "4   35.110.222.153  [2021-5-12T5:6:0.0+0430]   [Get   \n",
              "\n",
              "                             request status   size  \\\n",
              "0          /cdn/profiles/1026106239]    304      0   \n",
              "1                  images/badge.png]    304      0   \n",
              "2                  /pages/630180847]    200  52567   \n",
              "3              images/fav_icon2.ico]    200  23531   \n",
              "4  images/sanjagh_logo_purpule5.png]    200   4680   \n",
              "\n",
              "                                          agent_time  \n",
              "0                       [[Googlebot-Image/1.0]] 32\\n  \n",
              "1                        [[Googlebot-Image/1.0]] 4\\n  \n",
              "2  [[Mozilla/5.0 (Linux; Android 6.0.1; SAMSUNG S...  \n",
              "3  [[Mozilla/5.0 (Linux; Android 6.0; CAM-L21) Ap...  \n",
              "4  [[Mozilla/5.0 (Linux; Android 6.0.1; SAMSUNG S...  "
            ]
          },
          "metadata": {
            "tags": []
          },
          "execution_count": 9
        }
      ]
    },
    {
      "cell_type": "code",
      "metadata": {
        "id": "_vmi1BfWGQ2u",
        "colab": {
          "base_uri": "https://localhost:8080/"
        },
        "outputId": "12b8d423-e016-4654-9df4-8649e8840704"
      },
      "source": [
        "print('Size of dataframe:', df.shape)"
      ],
      "execution_count": null,
      "outputs": [
        {
          "output_type": "stream",
          "text": [
            "Size of dataframe: (1260035, 7)\n"
          ],
          "name": "stdout"
        }
      ]
    },
    {
      "cell_type": "code",
      "metadata": {
        "id": "-H70mIEhGbBP"
      },
      "source": [
        "# split user_agent and response_time columns from eachother\n",
        "df[['user_agent','response_time']] = pd.DataFrame(df['agent_time'].str.rsplit(' ',1).tolist(),\n",
        "                                                  columns=['user_agent','response_time'])\n",
        "\n",
        "# delete agent_time column\n",
        "del df['agent_time']"
      ],
      "execution_count": null,
      "outputs": []
    },
    {
      "cell_type": "code",
      "metadata": {
        "id": "aJ01ntJ6Ge_N"
      },
      "source": [
        "# remove unwanted characters from each column\n",
        "df['datetime'] = df['datetime'].str.replace('\\[', '')\n",
        "df['datetime'] = df['datetime'].str.replace('\\]', '')\n",
        "df['method'] = df['method'].str.replace('\\[', '')\n",
        "df['request'] = df['request'].str.replace('\\]', '')\n",
        "df['user_agent'] = df['user_agent'].str.replace('\\[\\[', '')\n",
        "df['user_agent'] = df['user_agent'].str.replace('\\]\\]', '')\n",
        "df['response_time'] = df['response_time'].str.replace('\\n', '')"
      ],
      "execution_count": null,
      "outputs": []
    },
    {
      "cell_type": "code",
      "metadata": {
        "id": "IKQFO0FJINYD",
        "colab": {
          "base_uri": "https://localhost:8080/"
        },
        "outputId": "53822be5-59c8-4509-b314-2b91a3b80a3b"
      },
      "source": [
        "# number of missing values in each column\n",
        "df.isnull().sum()"
      ],
      "execution_count": null,
      "outputs": [
        {
          "output_type": "execute_result",
          "data": {
            "text/plain": [
              "ip               0\n",
              "datetime         0\n",
              "method           0\n",
              "request          0\n",
              "status           0\n",
              "size             0\n",
              "user_agent       0\n",
              "response_time    0\n",
              "dtype: int64"
            ]
          },
          "metadata": {
            "tags": []
          },
          "execution_count": 13
        }
      ]
    },
    {
      "cell_type": "markdown",
      "metadata": {
        "id": "tXdwRklAUcW1"
      },
      "source": [
        "### Change data type"
      ]
    },
    {
      "cell_type": "code",
      "metadata": {
        "id": "PEDo_1xcG0Ok"
      },
      "source": [
        "# change datetime column data type to datetime\n",
        "df['datetime'] = pd.to_datetime(df['datetime'])\n",
        "# change method column data type to category\n",
        "df['method'] = df['method'].astype('category')\n",
        "# change status column data type to int\n",
        "df['status'] = df['status'].astype('int16')\n",
        "# change size column data type to int\n",
        "df['size'] = df['size'].astype('int32')\n",
        "# change user_agent column data type to category\n",
        "df['user_agent'] = df['user_agent'].astype('category')"
      ],
      "execution_count": null,
      "outputs": []
    },
    {
      "cell_type": "markdown",
      "metadata": {
        "id": "pvzQiHElWvWQ"
      },
      "source": [
        "### Extract time and date periods"
      ]
    },
    {
      "cell_type": "code",
      "metadata": {
        "id": "d-fW9zy7G6vE"
      },
      "source": [
        "# extract date periods from datetime field\n",
        "df['date'] = df['datetime'].dt.date\n",
        "df['year'] = df['datetime'].dt.year\n",
        "df['quarter'] = df['datetime'].dt.quarter\n",
        "df['month'] = df['datetime'].dt.month\n",
        "df['day'] = df['datetime'].dt.day\n",
        "\n",
        "# extract time periods from datetime field\n",
        "df['time'] = df['datetime'].dt.time\n",
        "df['hour'] = df['datetime'].dt.hour\n",
        "df['minute'] = df['datetime'].dt.minute\n",
        "df['second'] = df['datetime'].dt.second\n",
        "\n",
        "# remove datetime column\n",
        "#del df['datetime']"
      ],
      "execution_count": null,
      "outputs": []
    },
    {
      "cell_type": "code",
      "metadata": {
        "colab": {
          "base_uri": "https://localhost:8080/",
          "height": 502
        },
        "id": "Havs1KGr35NT",
        "outputId": "12152c61-2471-44c5-c080-1f41acea6be5"
      },
      "source": [
        "df.head()"
      ],
      "execution_count": null,
      "outputs": [
        {
          "output_type": "execute_result",
          "data": {
            "text/html": [
              "<div>\n",
              "<style scoped>\n",
              "    .dataframe tbody tr th:only-of-type {\n",
              "        vertical-align: middle;\n",
              "    }\n",
              "\n",
              "    .dataframe tbody tr th {\n",
              "        vertical-align: top;\n",
              "    }\n",
              "\n",
              "    .dataframe thead th {\n",
              "        text-align: right;\n",
              "    }\n",
              "</style>\n",
              "<table border=\"1\" class=\"dataframe\">\n",
              "  <thead>\n",
              "    <tr style=\"text-align: right;\">\n",
              "      <th></th>\n",
              "      <th>ip</th>\n",
              "      <th>datetime</th>\n",
              "      <th>method</th>\n",
              "      <th>request</th>\n",
              "      <th>status</th>\n",
              "      <th>size</th>\n",
              "      <th>user_agent</th>\n",
              "      <th>response_time</th>\n",
              "      <th>date</th>\n",
              "      <th>year</th>\n",
              "      <th>quarter</th>\n",
              "      <th>month</th>\n",
              "      <th>day</th>\n",
              "      <th>time</th>\n",
              "      <th>hour</th>\n",
              "      <th>minute</th>\n",
              "      <th>second</th>\n",
              "    </tr>\n",
              "  </thead>\n",
              "  <tbody>\n",
              "    <tr>\n",
              "      <th>0</th>\n",
              "      <td>207.213.193.143</td>\n",
              "      <td>2021-05-12 05:06:00+04:30</td>\n",
              "      <td>Get</td>\n",
              "      <td>/cdn/profiles/1026106239</td>\n",
              "      <td>304</td>\n",
              "      <td>0</td>\n",
              "      <td>Googlebot-Image/1.0</td>\n",
              "      <td>32</td>\n",
              "      <td>2021-05-12</td>\n",
              "      <td>2021</td>\n",
              "      <td>2</td>\n",
              "      <td>5</td>\n",
              "      <td>12</td>\n",
              "      <td>05:06:00</td>\n",
              "      <td>5</td>\n",
              "      <td>6</td>\n",
              "      <td>0</td>\n",
              "    </tr>\n",
              "    <tr>\n",
              "      <th>1</th>\n",
              "      <td>207.213.193.143</td>\n",
              "      <td>2021-05-12 05:06:00+04:30</td>\n",
              "      <td>Get</td>\n",
              "      <td>images/badge.png</td>\n",
              "      <td>304</td>\n",
              "      <td>0</td>\n",
              "      <td>Googlebot-Image/1.0</td>\n",
              "      <td>4</td>\n",
              "      <td>2021-05-12</td>\n",
              "      <td>2021</td>\n",
              "      <td>2</td>\n",
              "      <td>5</td>\n",
              "      <td>12</td>\n",
              "      <td>05:06:00</td>\n",
              "      <td>5</td>\n",
              "      <td>6</td>\n",
              "      <td>0</td>\n",
              "    </tr>\n",
              "    <tr>\n",
              "      <th>2</th>\n",
              "      <td>35.110.222.153</td>\n",
              "      <td>2021-05-12 05:06:00+04:30</td>\n",
              "      <td>Get</td>\n",
              "      <td>/pages/630180847</td>\n",
              "      <td>200</td>\n",
              "      <td>52567</td>\n",
              "      <td>Mozilla/5.0 (Linux; Android 6.0.1; SAMSUNG SM-...</td>\n",
              "      <td>32</td>\n",
              "      <td>2021-05-12</td>\n",
              "      <td>2021</td>\n",
              "      <td>2</td>\n",
              "      <td>5</td>\n",
              "      <td>12</td>\n",
              "      <td>05:06:00</td>\n",
              "      <td>5</td>\n",
              "      <td>6</td>\n",
              "      <td>0</td>\n",
              "    </tr>\n",
              "    <tr>\n",
              "      <th>3</th>\n",
              "      <td>35.108.208.99</td>\n",
              "      <td>2021-05-12 05:06:00+04:30</td>\n",
              "      <td>Get</td>\n",
              "      <td>images/fav_icon2.ico</td>\n",
              "      <td>200</td>\n",
              "      <td>23531</td>\n",
              "      <td>Mozilla/5.0 (Linux; Android 6.0; CAM-L21) Appl...</td>\n",
              "      <td>20</td>\n",
              "      <td>2021-05-12</td>\n",
              "      <td>2021</td>\n",
              "      <td>2</td>\n",
              "      <td>5</td>\n",
              "      <td>12</td>\n",
              "      <td>05:06:00</td>\n",
              "      <td>5</td>\n",
              "      <td>6</td>\n",
              "      <td>0</td>\n",
              "    </tr>\n",
              "    <tr>\n",
              "      <th>4</th>\n",
              "      <td>35.110.222.153</td>\n",
              "      <td>2021-05-12 05:06:00+04:30</td>\n",
              "      <td>Get</td>\n",
              "      <td>images/sanjagh_logo_purpule5.png</td>\n",
              "      <td>200</td>\n",
              "      <td>4680</td>\n",
              "      <td>Mozilla/5.0 (Linux; Android 6.0.1; SAMSUNG SM-...</td>\n",
              "      <td>8</td>\n",
              "      <td>2021-05-12</td>\n",
              "      <td>2021</td>\n",
              "      <td>2</td>\n",
              "      <td>5</td>\n",
              "      <td>12</td>\n",
              "      <td>05:06:00</td>\n",
              "      <td>5</td>\n",
              "      <td>6</td>\n",
              "      <td>0</td>\n",
              "    </tr>\n",
              "  </tbody>\n",
              "</table>\n",
              "</div>"
            ],
            "text/plain": [
              "                ip                  datetime method  \\\n",
              "0  207.213.193.143 2021-05-12 05:06:00+04:30    Get   \n",
              "1  207.213.193.143 2021-05-12 05:06:00+04:30    Get   \n",
              "2   35.110.222.153 2021-05-12 05:06:00+04:30    Get   \n",
              "3    35.108.208.99 2021-05-12 05:06:00+04:30    Get   \n",
              "4   35.110.222.153 2021-05-12 05:06:00+04:30    Get   \n",
              "\n",
              "                            request  status   size  \\\n",
              "0          /cdn/profiles/1026106239     304      0   \n",
              "1                  images/badge.png     304      0   \n",
              "2                  /pages/630180847     200  52567   \n",
              "3              images/fav_icon2.ico     200  23531   \n",
              "4  images/sanjagh_logo_purpule5.png     200   4680   \n",
              "\n",
              "                                          user_agent response_time  \\\n",
              "0                                Googlebot-Image/1.0            32   \n",
              "1                                Googlebot-Image/1.0             4   \n",
              "2  Mozilla/5.0 (Linux; Android 6.0.1; SAMSUNG SM-...            32   \n",
              "3  Mozilla/5.0 (Linux; Android 6.0; CAM-L21) Appl...            20   \n",
              "4  Mozilla/5.0 (Linux; Android 6.0.1; SAMSUNG SM-...             8   \n",
              "\n",
              "         date  year  quarter  month  day      time  hour  minute  second  \n",
              "0  2021-05-12  2021        2      5   12  05:06:00     5       6       0  \n",
              "1  2021-05-12  2021        2      5   12  05:06:00     5       6       0  \n",
              "2  2021-05-12  2021        2      5   12  05:06:00     5       6       0  \n",
              "3  2021-05-12  2021        2      5   12  05:06:00     5       6       0  \n",
              "4  2021-05-12  2021        2      5   12  05:06:00     5       6       0  "
            ]
          },
          "metadata": {
            "tags": []
          },
          "execution_count": 16
        }
      ]
    },
    {
      "cell_type": "code",
      "metadata": {
        "colab": {
          "base_uri": "https://localhost:8080/"
        },
        "id": "ds2YHiBg4LFy",
        "outputId": "d073f182-ad09-45c4-ddc6-30867eb670bd"
      },
      "source": [
        "df.info()"
      ],
      "execution_count": null,
      "outputs": [
        {
          "output_type": "stream",
          "text": [
            "<class 'pandas.core.frame.DataFrame'>\n",
            "RangeIndex: 1260035 entries, 0 to 1260034\n",
            "Data columns (total 17 columns):\n",
            " #   Column         Non-Null Count    Dtype                                \n",
            "---  ------         --------------    -----                                \n",
            " 0   ip             1260035 non-null  object                               \n",
            " 1   datetime       1260035 non-null  datetime64[ns, pytz.FixedOffset(270)]\n",
            " 2   method         1260035 non-null  category                             \n",
            " 3   request        1260035 non-null  object                               \n",
            " 4   status         1260035 non-null  int16                                \n",
            " 5   size           1260035 non-null  int32                                \n",
            " 6   user_agent     1260035 non-null  category                             \n",
            " 7   response_time  1260035 non-null  object                               \n",
            " 8   date           1260035 non-null  object                               \n",
            " 9   year           1260035 non-null  int64                                \n",
            " 10  quarter        1260035 non-null  int64                                \n",
            " 11  month          1260035 non-null  int64                                \n",
            " 12  day            1260035 non-null  int64                                \n",
            " 13  time           1260035 non-null  object                               \n",
            " 14  hour           1260035 non-null  int64                                \n",
            " 15  minute         1260035 non-null  int64                                \n",
            " 16  second         1260035 non-null  int64                                \n",
            "dtypes: category(2), datetime64[ns, pytz.FixedOffset(270)](1), int16(1), int32(1), int64(7), object(5)\n",
            "memory usage: 136.2+ MB\n"
          ],
          "name": "stdout"
        }
      ]
    },
    {
      "cell_type": "markdown",
      "metadata": {
        "id": "Lme3f3N9G-bF"
      },
      "source": [
        "***\n",
        "# Data Cleaning"
      ]
    },
    {
      "cell_type": "code",
      "metadata": {
        "id": "744AMHBGHAQD"
      },
      "source": [
        "# seperate subnet from ip addresss\n",
        "for i in range(len(df)):\n",
        "  df.at[i,'subnet'] = df['ip'][i].rsplit('.', 1)[0]"
      ],
      "execution_count": null,
      "outputs": []
    },
    {
      "cell_type": "code",
      "metadata": {
        "id": "-LMWE7p_HEGE"
      },
      "source": [
        "# extract first and last part and depth of the request\n",
        "for i in range(len(df)):\n",
        "  split_request = df['request'][i].split('/')\n",
        "  split_request = [item for item in split_request if item!='']\n",
        "\n",
        "  if len(split_request):\n",
        "    df.at[i,'first_part_request'] = split_request[0]\n",
        "    df.at[i,'last_part_request'] = split_request[-1]\n",
        "    df.at[i,'depth_request'] = len(split_request)\n",
        "  \n",
        "  else:\n",
        "    df.at[i,'first_part_request'] = 'root'\n",
        "    df.at[i,'last_part_request'] = 'root'\n",
        "    df.at[i,'depth_request'] = 0"
      ],
      "execution_count": null,
      "outputs": []
    },
    {
      "cell_type": "code",
      "metadata": {
        "id": "9YoBRqbWnExs",
        "colab": {
          "base_uri": "https://localhost:8080/"
        },
        "outputId": "f92e10f6-87f8-492e-cffa-57664f4531d5"
      },
      "source": [
        "# remove ips with - as value\n",
        "df = df[df['ip'] != '-']\n",
        "\n",
        "# replace response time of - with 0\n",
        "df.loc[df['response_time'] == '-', 'response_time'] = '0'\n",
        "\n",
        "print('Size of new dataframe:', df.shape)\n",
        "\n",
        "# change ip column data type to category\n",
        "df['ip'] = df['ip'].astype('category')\n",
        "\n",
        "# change response_time column data type to int\n",
        "df['response_time'] = df['response_time'].astype('int64')"
      ],
      "execution_count": null,
      "outputs": [
        {
          "output_type": "stream",
          "text": [
            "Size of new dataframe: (1241945, 21)\n"
          ],
          "name": "stdout"
        }
      ]
    },
    {
      "cell_type": "markdown",
      "metadata": {
        "id": "bFrEKXAEo7tT"
      },
      "source": [
        "### status "
      ]
    },
    {
      "cell_type": "code",
      "metadata": {
        "id": "j6gPZHNGHHC9"
      },
      "source": [
        "# extract the first character of status to group them as 2xx, 3xx, 4xx and 5xx statuses\n",
        "df['status_group'] = df['status'].astype(str).str[0] + 'xx' "
      ],
      "execution_count": null,
      "outputs": []
    },
    {
      "cell_type": "code",
      "metadata": {
        "id": "lEtQzdVjsOLa",
        "colab": {
          "base_uri": "https://localhost:8080/",
          "height": 205
        },
        "outputId": "4d28d36d-fd5c-48da-b56e-57045cde2db1"
      },
      "source": [
        "df[['status' ,'status_group']].head()"
      ],
      "execution_count": null,
      "outputs": [
        {
          "output_type": "execute_result",
          "data": {
            "text/html": [
              "<div>\n",
              "<style scoped>\n",
              "    .dataframe tbody tr th:only-of-type {\n",
              "        vertical-align: middle;\n",
              "    }\n",
              "\n",
              "    .dataframe tbody tr th {\n",
              "        vertical-align: top;\n",
              "    }\n",
              "\n",
              "    .dataframe thead th {\n",
              "        text-align: right;\n",
              "    }\n",
              "</style>\n",
              "<table border=\"1\" class=\"dataframe\">\n",
              "  <thead>\n",
              "    <tr style=\"text-align: right;\">\n",
              "      <th></th>\n",
              "      <th>status</th>\n",
              "      <th>status_group</th>\n",
              "    </tr>\n",
              "  </thead>\n",
              "  <tbody>\n",
              "    <tr>\n",
              "      <th>0</th>\n",
              "      <td>304</td>\n",
              "      <td>3xx</td>\n",
              "    </tr>\n",
              "    <tr>\n",
              "      <th>1</th>\n",
              "      <td>304</td>\n",
              "      <td>3xx</td>\n",
              "    </tr>\n",
              "    <tr>\n",
              "      <th>2</th>\n",
              "      <td>200</td>\n",
              "      <td>2xx</td>\n",
              "    </tr>\n",
              "    <tr>\n",
              "      <th>3</th>\n",
              "      <td>200</td>\n",
              "      <td>2xx</td>\n",
              "    </tr>\n",
              "    <tr>\n",
              "      <th>4</th>\n",
              "      <td>200</td>\n",
              "      <td>2xx</td>\n",
              "    </tr>\n",
              "  </tbody>\n",
              "</table>\n",
              "</div>"
            ],
            "text/plain": [
              "   status status_group\n",
              "0     304          3xx\n",
              "1     304          3xx\n",
              "2     200          2xx\n",
              "3     200          2xx\n",
              "4     200          2xx"
            ]
          },
          "metadata": {
            "tags": []
          },
          "execution_count": 22
        }
      ]
    },
    {
      "cell_type": "markdown",
      "metadata": {
        "id": "CwjTbZAzo-b_"
      },
      "source": [
        "### country "
      ]
    },
    {
      "cell_type": "code",
      "metadata": {
        "id": "23v98kIho-0V",
        "colab": {
          "base_uri": "https://localhost:8080/"
        },
        "outputId": "4bf1a4cc-ac9d-44e0-aa8a-9eebe11a7706"
      },
      "source": [
        "# get country names from ip\n",
        "def get_country(ip):\n",
        "    try:\n",
        "        x = geo.get(ip)\n",
        "    except ValueError:\n",
        "        return pd.np.nan\n",
        "    try:\n",
        "        return x['country']['names']['en'] if x else pd.np.nan\n",
        "    except KeyError:\n",
        "        return pd.np.nan\n",
        "\n",
        "geo = geolite2.reader()\n",
        "# get unique IPs\n",
        "unique_ips = df['ip'].unique()\n",
        "# make series out of it\n",
        "unique_ips = pd.Series(unique_ips, index = unique_ips)\n",
        "# map IP --> country\n",
        "df['country'] = df['ip'].map(unique_ips.apply(get_country))"
      ],
      "execution_count": null,
      "outputs": [
        {
          "output_type": "stream",
          "text": [
            "/usr/local/lib/python3.7/dist-packages/ipykernel_launcher.py:8: FutureWarning: The pandas.np module is deprecated and will be removed from pandas in a future version. Import numpy directly instead\n",
            "  \n",
            "/usr/local/lib/python3.7/dist-packages/ipykernel_launcher.py:10: FutureWarning: The pandas.np module is deprecated and will be removed from pandas in a future version. Import numpy directly instead\n",
            "  # Remove the CWD from sys.path while we load stuff.\n"
          ],
          "name": "stderr"
        }
      ]
    },
    {
      "cell_type": "code",
      "metadata": {
        "id": "OJKSiLlZplNt",
        "colab": {
          "base_uri": "https://localhost:8080/",
          "height": 205
        },
        "outputId": "0e44b899-eb15-4f0d-f1a7-f9cea93ce2bd"
      },
      "source": [
        "df[['ip', 'country']].head()"
      ],
      "execution_count": null,
      "outputs": [
        {
          "output_type": "execute_result",
          "data": {
            "text/html": [
              "<div>\n",
              "<style scoped>\n",
              "    .dataframe tbody tr th:only-of-type {\n",
              "        vertical-align: middle;\n",
              "    }\n",
              "\n",
              "    .dataframe tbody tr th {\n",
              "        vertical-align: top;\n",
              "    }\n",
              "\n",
              "    .dataframe thead th {\n",
              "        text-align: right;\n",
              "    }\n",
              "</style>\n",
              "<table border=\"1\" class=\"dataframe\">\n",
              "  <thead>\n",
              "    <tr style=\"text-align: right;\">\n",
              "      <th></th>\n",
              "      <th>ip</th>\n",
              "      <th>country</th>\n",
              "    </tr>\n",
              "  </thead>\n",
              "  <tbody>\n",
              "    <tr>\n",
              "      <th>0</th>\n",
              "      <td>207.213.193.143</td>\n",
              "      <td>United States</td>\n",
              "    </tr>\n",
              "    <tr>\n",
              "      <th>1</th>\n",
              "      <td>207.213.193.143</td>\n",
              "      <td>United States</td>\n",
              "    </tr>\n",
              "    <tr>\n",
              "      <th>2</th>\n",
              "      <td>35.110.222.153</td>\n",
              "      <td>United States</td>\n",
              "    </tr>\n",
              "    <tr>\n",
              "      <th>3</th>\n",
              "      <td>35.108.208.99</td>\n",
              "      <td>United States</td>\n",
              "    </tr>\n",
              "    <tr>\n",
              "      <th>4</th>\n",
              "      <td>35.110.222.153</td>\n",
              "      <td>United States</td>\n",
              "    </tr>\n",
              "  </tbody>\n",
              "</table>\n",
              "</div>"
            ],
            "text/plain": [
              "                ip        country\n",
              "0  207.213.193.143  United States\n",
              "1  207.213.193.143  United States\n",
              "2   35.110.222.153  United States\n",
              "3    35.108.208.99  United States\n",
              "4   35.110.222.153  United States"
            ]
          },
          "metadata": {
            "tags": []
          },
          "execution_count": 24
        }
      ]
    },
    {
      "cell_type": "markdown",
      "metadata": {
        "id": "VMWAhpZ15lQX"
      },
      "source": [
        "## parse user_agent"
      ]
    },
    {
      "cell_type": "code",
      "metadata": {
        "id": "KWYPiP8wR9tz"
      },
      "source": [
        "# user_agent parsing\n",
        "browser_families, browser_versions, os_families = [], [], []\n",
        "os_versions, device_families, device_brands, is_bots = [], [], [], []\n",
        "\n",
        "for i,item in enumerate(df['user_agent'].to_list()):\n",
        "  ua_string = item\n",
        "\n",
        "  try:\n",
        "    user_agent = parse(ua_string)\n",
        "\n",
        "    # Accessing user agent's browser attributes\n",
        "    browser_families.append(user_agent.browser.family)\n",
        "    browser_versions.append(user_agent.browser.version_string)\n",
        "\n",
        "    # Accessing user agent's operating system properties\n",
        "    os_families.append(user_agent.os.family)\n",
        "    os_versions.append(user_agent.os.version_string)\n",
        "\n",
        "    # Accessing user agent's device properties\n",
        "    device_families.append(user_agent.device.family)\n",
        "    device_brands.append(user_agent.device.brand)\n",
        "\n",
        "    # whether user agent is a search engine crawler/spider\n",
        "    is_bots.append(user_agent.is_bot)\n",
        "  \n",
        "  except:\n",
        "    browser_families.append(' ')\n",
        "    browser_versions.append(' ')\n",
        "\n",
        "    # Accessing user agent's operating system properties\n",
        "    os_families.append(' ')\n",
        "    os_versions.append(' ')\n",
        "\n",
        "    # Accessing user agent's device properties\n",
        "    device_families.append(' ')\n",
        "    device_brands.append(' ')\n",
        "    \n",
        "    # whether user agent is a search engine crawler/spider\n",
        "    is_bots.append(' ')"
      ],
      "execution_count": null,
      "outputs": []
    },
    {
      "cell_type": "code",
      "metadata": {
        "id": "xp4TT-aMcdME"
      },
      "source": [
        "df['browser_family'] = browser_families\n",
        "df['browser_version'] = browser_versions\n",
        "df['os_family'] = os_families\n",
        "df['os_version'] = os_versions \n",
        "df['device_family'] = device_families\n",
        "df['device_brand'] = device_brands\n",
        "df['is_bot'] = [int(val) for val in is_bots]"
      ],
      "execution_count": null,
      "outputs": []
    },
    {
      "cell_type": "code",
      "metadata": {
        "id": "euXmpiYIHUt0",
        "colab": {
          "base_uri": "https://localhost:8080/"
        },
        "outputId": "71045358-813d-493d-ab0e-fa5cc7d4959d"
      },
      "source": [
        "# concatenate ip and user_agent columns as single id\n",
        "df['id'] = df['ip'].str.cat(df['user_agent'], sep =' ')\n",
        "df['id'].head()"
      ],
      "execution_count": null,
      "outputs": [
        {
          "output_type": "execute_result",
          "data": {
            "text/plain": [
              "0                  207.213.193.143 Googlebot-Image/1.0\n",
              "1                  207.213.193.143 Googlebot-Image/1.0\n",
              "2    35.110.222.153 Mozilla/5.0 (Linux; Android 6.0...\n",
              "3    35.108.208.99 Mozilla/5.0 (Linux; Android 6.0;...\n",
              "4    35.110.222.153 Mozilla/5.0 (Linux; Android 6.0...\n",
              "Name: id, dtype: object"
            ]
          },
          "metadata": {
            "tags": []
          },
          "execution_count": 27
        }
      ]
    },
    {
      "cell_type": "markdown",
      "metadata": {
        "id": "-Ju5TYL0_kQj"
      },
      "source": [
        "## robots.txt"
      ]
    },
    {
      "cell_type": "code",
      "metadata": {
        "id": "Lc_3OgOV_m3s",
        "colab": {
          "base_uri": "https://localhost:8080/"
        },
        "outputId": "584a085d-9f94-4c92-b02a-67dadbae80e0"
      },
      "source": [
        "# search \"robots.txt\" in request\n",
        "df['robots'] = df.request.str.match('.*robots.txt', case=False)\n",
        "\n",
        "# change True = 1 , False = 0 \n",
        "ord_enc = OrdinalEncoder()\n",
        "df[\"robots\"] = ord_enc.fit_transform(df[[\"robots\"]])\n",
        "\n",
        "# show a request \"robots.txt\"\n",
        "df['robots'].head()"
      ],
      "execution_count": null,
      "outputs": [
        {
          "output_type": "execute_result",
          "data": {
            "text/plain": [
              "0    0.0\n",
              "1    0.0\n",
              "2    0.0\n",
              "3    0.0\n",
              "4    0.0\n",
              "Name: robots, dtype: float64"
            ]
          },
          "metadata": {
            "tags": []
          },
          "execution_count": 28
        }
      ]
    },
    {
      "cell_type": "code",
      "metadata": {
        "colab": {
          "base_uri": "https://localhost:8080/",
          "height": 536
        },
        "id": "3RpJZazI4HCB",
        "outputId": "ec556030-9e85-4903-87fe-39f474f16f5e"
      },
      "source": [
        "df.head()"
      ],
      "execution_count": null,
      "outputs": [
        {
          "output_type": "execute_result",
          "data": {
            "text/html": [
              "<div>\n",
              "<style scoped>\n",
              "    .dataframe tbody tr th:only-of-type {\n",
              "        vertical-align: middle;\n",
              "    }\n",
              "\n",
              "    .dataframe tbody tr th {\n",
              "        vertical-align: top;\n",
              "    }\n",
              "\n",
              "    .dataframe thead th {\n",
              "        text-align: right;\n",
              "    }\n",
              "</style>\n",
              "<table border=\"1\" class=\"dataframe\">\n",
              "  <thead>\n",
              "    <tr style=\"text-align: right;\">\n",
              "      <th></th>\n",
              "      <th>ip</th>\n",
              "      <th>datetime</th>\n",
              "      <th>method</th>\n",
              "      <th>request</th>\n",
              "      <th>status</th>\n",
              "      <th>size</th>\n",
              "      <th>user_agent</th>\n",
              "      <th>response_time</th>\n",
              "      <th>date</th>\n",
              "      <th>year</th>\n",
              "      <th>quarter</th>\n",
              "      <th>month</th>\n",
              "      <th>day</th>\n",
              "      <th>time</th>\n",
              "      <th>hour</th>\n",
              "      <th>minute</th>\n",
              "      <th>second</th>\n",
              "      <th>subnet</th>\n",
              "      <th>first_part_request</th>\n",
              "      <th>last_part_request</th>\n",
              "      <th>depth_request</th>\n",
              "      <th>status_group</th>\n",
              "      <th>country</th>\n",
              "      <th>browser_family</th>\n",
              "      <th>browser_version</th>\n",
              "      <th>os_family</th>\n",
              "      <th>os_version</th>\n",
              "      <th>device_family</th>\n",
              "      <th>device_brand</th>\n",
              "      <th>is_bot</th>\n",
              "      <th>id</th>\n",
              "      <th>robots</th>\n",
              "    </tr>\n",
              "  </thead>\n",
              "  <tbody>\n",
              "    <tr>\n",
              "      <th>0</th>\n",
              "      <td>207.213.193.143</td>\n",
              "      <td>2021-05-12 05:06:00+04:30</td>\n",
              "      <td>Get</td>\n",
              "      <td>/cdn/profiles/1026106239</td>\n",
              "      <td>304</td>\n",
              "      <td>0</td>\n",
              "      <td>Googlebot-Image/1.0</td>\n",
              "      <td>32</td>\n",
              "      <td>2021-05-12</td>\n",
              "      <td>2021</td>\n",
              "      <td>2</td>\n",
              "      <td>5</td>\n",
              "      <td>12</td>\n",
              "      <td>05:06:00</td>\n",
              "      <td>5</td>\n",
              "      <td>6</td>\n",
              "      <td>0</td>\n",
              "      <td>207.213.193</td>\n",
              "      <td>cdn</td>\n",
              "      <td>1026106239</td>\n",
              "      <td>3.0</td>\n",
              "      <td>3xx</td>\n",
              "      <td>United States</td>\n",
              "      <td>Googlebot-Image</td>\n",
              "      <td>1.0</td>\n",
              "      <td>Other</td>\n",
              "      <td></td>\n",
              "      <td>Spider</td>\n",
              "      <td>Spider</td>\n",
              "      <td>1</td>\n",
              "      <td>207.213.193.143 Googlebot-Image/1.0</td>\n",
              "      <td>0.0</td>\n",
              "    </tr>\n",
              "    <tr>\n",
              "      <th>1</th>\n",
              "      <td>207.213.193.143</td>\n",
              "      <td>2021-05-12 05:06:00+04:30</td>\n",
              "      <td>Get</td>\n",
              "      <td>images/badge.png</td>\n",
              "      <td>304</td>\n",
              "      <td>0</td>\n",
              "      <td>Googlebot-Image/1.0</td>\n",
              "      <td>4</td>\n",
              "      <td>2021-05-12</td>\n",
              "      <td>2021</td>\n",
              "      <td>2</td>\n",
              "      <td>5</td>\n",
              "      <td>12</td>\n",
              "      <td>05:06:00</td>\n",
              "      <td>5</td>\n",
              "      <td>6</td>\n",
              "      <td>0</td>\n",
              "      <td>207.213.193</td>\n",
              "      <td>images</td>\n",
              "      <td>badge.png</td>\n",
              "      <td>2.0</td>\n",
              "      <td>3xx</td>\n",
              "      <td>United States</td>\n",
              "      <td>Googlebot-Image</td>\n",
              "      <td>1.0</td>\n",
              "      <td>Other</td>\n",
              "      <td></td>\n",
              "      <td>Spider</td>\n",
              "      <td>Spider</td>\n",
              "      <td>1</td>\n",
              "      <td>207.213.193.143 Googlebot-Image/1.0</td>\n",
              "      <td>0.0</td>\n",
              "    </tr>\n",
              "    <tr>\n",
              "      <th>2</th>\n",
              "      <td>35.110.222.153</td>\n",
              "      <td>2021-05-12 05:06:00+04:30</td>\n",
              "      <td>Get</td>\n",
              "      <td>/pages/630180847</td>\n",
              "      <td>200</td>\n",
              "      <td>52567</td>\n",
              "      <td>Mozilla/5.0 (Linux; Android 6.0.1; SAMSUNG SM-...</td>\n",
              "      <td>32</td>\n",
              "      <td>2021-05-12</td>\n",
              "      <td>2021</td>\n",
              "      <td>2</td>\n",
              "      <td>5</td>\n",
              "      <td>12</td>\n",
              "      <td>05:06:00</td>\n",
              "      <td>5</td>\n",
              "      <td>6</td>\n",
              "      <td>0</td>\n",
              "      <td>35.110.222</td>\n",
              "      <td>pages</td>\n",
              "      <td>630180847</td>\n",
              "      <td>2.0</td>\n",
              "      <td>2xx</td>\n",
              "      <td>United States</td>\n",
              "      <td>Samsung Internet</td>\n",
              "      <td>4.0</td>\n",
              "      <td>Android</td>\n",
              "      <td>6.0.1</td>\n",
              "      <td>Samsung SM-J710GN</td>\n",
              "      <td>Samsung</td>\n",
              "      <td>0</td>\n",
              "      <td>35.110.222.153 Mozilla/5.0 (Linux; Android 6.0...</td>\n",
              "      <td>0.0</td>\n",
              "    </tr>\n",
              "    <tr>\n",
              "      <th>3</th>\n",
              "      <td>35.108.208.99</td>\n",
              "      <td>2021-05-12 05:06:00+04:30</td>\n",
              "      <td>Get</td>\n",
              "      <td>images/fav_icon2.ico</td>\n",
              "      <td>200</td>\n",
              "      <td>23531</td>\n",
              "      <td>Mozilla/5.0 (Linux; Android 6.0; CAM-L21) Appl...</td>\n",
              "      <td>20</td>\n",
              "      <td>2021-05-12</td>\n",
              "      <td>2021</td>\n",
              "      <td>2</td>\n",
              "      <td>5</td>\n",
              "      <td>12</td>\n",
              "      <td>05:06:00</td>\n",
              "      <td>5</td>\n",
              "      <td>6</td>\n",
              "      <td>0</td>\n",
              "      <td>35.108.208</td>\n",
              "      <td>images</td>\n",
              "      <td>fav_icon2.ico</td>\n",
              "      <td>2.0</td>\n",
              "      <td>2xx</td>\n",
              "      <td>United States</td>\n",
              "      <td>Chrome Mobile</td>\n",
              "      <td>91.0.4472</td>\n",
              "      <td>Android</td>\n",
              "      <td>6.0</td>\n",
              "      <td>Huawei CAM-L21</td>\n",
              "      <td>Huawei</td>\n",
              "      <td>0</td>\n",
              "      <td>35.108.208.99 Mozilla/5.0 (Linux; Android 6.0;...</td>\n",
              "      <td>0.0</td>\n",
              "    </tr>\n",
              "    <tr>\n",
              "      <th>4</th>\n",
              "      <td>35.110.222.153</td>\n",
              "      <td>2021-05-12 05:06:00+04:30</td>\n",
              "      <td>Get</td>\n",
              "      <td>images/sanjagh_logo_purpule5.png</td>\n",
              "      <td>200</td>\n",
              "      <td>4680</td>\n",
              "      <td>Mozilla/5.0 (Linux; Android 6.0.1; SAMSUNG SM-...</td>\n",
              "      <td>8</td>\n",
              "      <td>2021-05-12</td>\n",
              "      <td>2021</td>\n",
              "      <td>2</td>\n",
              "      <td>5</td>\n",
              "      <td>12</td>\n",
              "      <td>05:06:00</td>\n",
              "      <td>5</td>\n",
              "      <td>6</td>\n",
              "      <td>0</td>\n",
              "      <td>35.110.222</td>\n",
              "      <td>images</td>\n",
              "      <td>sanjagh_logo_purpule5.png</td>\n",
              "      <td>2.0</td>\n",
              "      <td>2xx</td>\n",
              "      <td>United States</td>\n",
              "      <td>Samsung Internet</td>\n",
              "      <td>4.0</td>\n",
              "      <td>Android</td>\n",
              "      <td>6.0.1</td>\n",
              "      <td>Samsung SM-J710GN</td>\n",
              "      <td>Samsung</td>\n",
              "      <td>0</td>\n",
              "      <td>35.110.222.153 Mozilla/5.0 (Linux; Android 6.0...</td>\n",
              "      <td>0.0</td>\n",
              "    </tr>\n",
              "  </tbody>\n",
              "</table>\n",
              "</div>"
            ],
            "text/plain": [
              "                ip                  datetime method  \\\n",
              "0  207.213.193.143 2021-05-12 05:06:00+04:30    Get   \n",
              "1  207.213.193.143 2021-05-12 05:06:00+04:30    Get   \n",
              "2   35.110.222.153 2021-05-12 05:06:00+04:30    Get   \n",
              "3    35.108.208.99 2021-05-12 05:06:00+04:30    Get   \n",
              "4   35.110.222.153 2021-05-12 05:06:00+04:30    Get   \n",
              "\n",
              "                            request  status   size  \\\n",
              "0          /cdn/profiles/1026106239     304      0   \n",
              "1                  images/badge.png     304      0   \n",
              "2                  /pages/630180847     200  52567   \n",
              "3              images/fav_icon2.ico     200  23531   \n",
              "4  images/sanjagh_logo_purpule5.png     200   4680   \n",
              "\n",
              "                                          user_agent  response_time  \\\n",
              "0                                Googlebot-Image/1.0             32   \n",
              "1                                Googlebot-Image/1.0              4   \n",
              "2  Mozilla/5.0 (Linux; Android 6.0.1; SAMSUNG SM-...             32   \n",
              "3  Mozilla/5.0 (Linux; Android 6.0; CAM-L21) Appl...             20   \n",
              "4  Mozilla/5.0 (Linux; Android 6.0.1; SAMSUNG SM-...              8   \n",
              "\n",
              "         date  year  quarter  month  day      time  hour  minute  second  \\\n",
              "0  2021-05-12  2021        2      5   12  05:06:00     5       6       0   \n",
              "1  2021-05-12  2021        2      5   12  05:06:00     5       6       0   \n",
              "2  2021-05-12  2021        2      5   12  05:06:00     5       6       0   \n",
              "3  2021-05-12  2021        2      5   12  05:06:00     5       6       0   \n",
              "4  2021-05-12  2021        2      5   12  05:06:00     5       6       0   \n",
              "\n",
              "        subnet first_part_request          last_part_request  depth_request  \\\n",
              "0  207.213.193                cdn                 1026106239            3.0   \n",
              "1  207.213.193             images                  badge.png            2.0   \n",
              "2   35.110.222              pages                  630180847            2.0   \n",
              "3   35.108.208             images              fav_icon2.ico            2.0   \n",
              "4   35.110.222             images  sanjagh_logo_purpule5.png            2.0   \n",
              "\n",
              "  status_group        country    browser_family browser_version os_family  \\\n",
              "0          3xx  United States   Googlebot-Image             1.0     Other   \n",
              "1          3xx  United States   Googlebot-Image             1.0     Other   \n",
              "2          2xx  United States  Samsung Internet             4.0   Android   \n",
              "3          2xx  United States     Chrome Mobile       91.0.4472   Android   \n",
              "4          2xx  United States  Samsung Internet             4.0   Android   \n",
              "\n",
              "  os_version      device_family device_brand  is_bot  \\\n",
              "0                        Spider       Spider       1   \n",
              "1                        Spider       Spider       1   \n",
              "2      6.0.1  Samsung SM-J710GN      Samsung       0   \n",
              "3        6.0     Huawei CAM-L21       Huawei       0   \n",
              "4      6.0.1  Samsung SM-J710GN      Samsung       0   \n",
              "\n",
              "                                                  id  robots  \n",
              "0                207.213.193.143 Googlebot-Image/1.0     0.0  \n",
              "1                207.213.193.143 Googlebot-Image/1.0     0.0  \n",
              "2  35.110.222.153 Mozilla/5.0 (Linux; Android 6.0...     0.0  \n",
              "3  35.108.208.99 Mozilla/5.0 (Linux; Android 6.0;...     0.0  \n",
              "4  35.110.222.153 Mozilla/5.0 (Linux; Android 6.0...     0.0  "
            ]
          },
          "metadata": {
            "tags": []
          },
          "execution_count": 29
        }
      ]
    },
    {
      "cell_type": "code",
      "metadata": {
        "colab": {
          "base_uri": "https://localhost:8080/"
        },
        "id": "LjrHhFwe4INF",
        "outputId": "98a815d9-49f2-4318-b6a7-164d24412cd6"
      },
      "source": [
        "df.info()"
      ],
      "execution_count": null,
      "outputs": [
        {
          "output_type": "stream",
          "text": [
            "<class 'pandas.core.frame.DataFrame'>\n",
            "Int64Index: 1241945 entries, 0 to 1260034\n",
            "Data columns (total 32 columns):\n",
            " #   Column              Non-Null Count    Dtype                                \n",
            "---  ------              --------------    -----                                \n",
            " 0   ip                  1241945 non-null  category                             \n",
            " 1   datetime            1241945 non-null  datetime64[ns, pytz.FixedOffset(270)]\n",
            " 2   method              1241945 non-null  category                             \n",
            " 3   request             1241945 non-null  object                               \n",
            " 4   status              1241945 non-null  int16                                \n",
            " 5   size                1241945 non-null  int32                                \n",
            " 6   user_agent          1241945 non-null  category                             \n",
            " 7   response_time       1241945 non-null  int64                                \n",
            " 8   date                1241945 non-null  object                               \n",
            " 9   year                1241945 non-null  int64                                \n",
            " 10  quarter             1241945 non-null  int64                                \n",
            " 11  month               1241945 non-null  int64                                \n",
            " 12  day                 1241945 non-null  int64                                \n",
            " 13  time                1241945 non-null  object                               \n",
            " 14  hour                1241945 non-null  int64                                \n",
            " 15  minute              1241945 non-null  int64                                \n",
            " 16  second              1241945 non-null  int64                                \n",
            " 17  subnet              1241945 non-null  object                               \n",
            " 18  first_part_request  1241945 non-null  object                               \n",
            " 19  last_part_request   1241945 non-null  object                               \n",
            " 20  depth_request       1241945 non-null  float64                              \n",
            " 21  status_group        1241945 non-null  object                               \n",
            " 22  country             1163095 non-null  object                               \n",
            " 23  browser_family      1241945 non-null  object                               \n",
            " 24  browser_version     1241945 non-null  object                               \n",
            " 25  os_family           1241945 non-null  object                               \n",
            " 26  os_version          1241945 non-null  object                               \n",
            " 27  device_family       1241945 non-null  object                               \n",
            " 28  device_brand        872146 non-null   object                               \n",
            " 29  is_bot              1241945 non-null  int64                                \n",
            " 30  id                  1241945 non-null  object                               \n",
            " 31  robots              1241945 non-null  float64                              \n",
            "dtypes: category(3), datetime64[ns, pytz.FixedOffset(270)](1), float64(2), int16(1), int32(1), int64(9), object(15)\n",
            "memory usage: 282.7+ MB\n"
          ],
          "name": "stdout"
        }
      ]
    },
    {
      "cell_type": "markdown",
      "metadata": {
        "id": "qTr0xYrQYJJb"
      },
      "source": [
        "***\n",
        "# Save log file as CSV file"
      ]
    },
    {
      "cell_type": "code",
      "metadata": {
        "id": "GdJUQZDjGf9T"
      },
      "source": [
        "# save dataframe to a CSV file\n",
        "df.to_csv('logs_cleaned.csv', index=False)"
      ],
      "execution_count": null,
      "outputs": []
    }
  ]
}