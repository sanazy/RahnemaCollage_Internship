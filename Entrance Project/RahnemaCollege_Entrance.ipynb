{
  "nbformat": 4,
  "nbformat_minor": 0,
  "metadata": {
    "colab": {
      "name": "RahnemaCollege_Entrance.ipynb",
      "provenance": [],
      "collapsed_sections": []
    },
    "kernelspec": {
      "name": "python3",
      "display_name": "Python 3"
    },
    "widgets": {
      "application/vnd.jupyter.widget-state+json": {
        "f76b6567070744ab9464d01d2a9aab78": {
          "model_module": "@jupyter-widgets/controls",
          "model_name": "HBoxModel",
          "model_module_version": "1.5.0",
          "state": {
            "_view_name": "HBoxView",
            "_dom_classes": [],
            "_model_name": "HBoxModel",
            "_view_module": "@jupyter-widgets/controls",
            "_model_module_version": "1.5.0",
            "_view_count": null,
            "_view_module_version": "1.5.0",
            "box_style": "",
            "layout": "IPY_MODEL_8c1e2f346c814f12b06d4ed2c91ca144",
            "_model_module": "@jupyter-widgets/controls",
            "children": [
              "IPY_MODEL_870b9647ea7f404aadb29ba1f1fd2ac5",
              "IPY_MODEL_558487f4db73441eb528c7fadcde7f6b",
              "IPY_MODEL_d276fe22792948f29505d48e07ef97ea"
            ]
          }
        },
        "8c1e2f346c814f12b06d4ed2c91ca144": {
          "model_module": "@jupyter-widgets/base",
          "model_name": "LayoutModel",
          "model_module_version": "1.2.0",
          "state": {
            "_view_name": "LayoutView",
            "grid_template_rows": null,
            "right": null,
            "justify_content": null,
            "_view_module": "@jupyter-widgets/base",
            "overflow": null,
            "_model_module_version": "1.2.0",
            "_view_count": null,
            "flex_flow": "row wrap",
            "width": "100%",
            "min_width": null,
            "border": null,
            "align_items": null,
            "bottom": null,
            "_model_module": "@jupyter-widgets/base",
            "top": null,
            "grid_column": null,
            "overflow_y": null,
            "overflow_x": null,
            "grid_auto_flow": null,
            "grid_area": null,
            "grid_template_columns": null,
            "flex": null,
            "_model_name": "LayoutModel",
            "justify_items": null,
            "grid_row": null,
            "max_height": null,
            "align_content": null,
            "visibility": null,
            "align_self": null,
            "height": null,
            "min_height": null,
            "padding": null,
            "grid_auto_rows": null,
            "grid_gap": null,
            "max_width": null,
            "order": null,
            "_view_module_version": "1.2.0",
            "grid_template_areas": null,
            "object_position": null,
            "object_fit": null,
            "grid_auto_columns": null,
            "margin": null,
            "display": "inline-flex",
            "left": null
          }
        },
        "870b9647ea7f404aadb29ba1f1fd2ac5": {
          "model_module": "@jupyter-widgets/controls",
          "model_name": "HTMLModel",
          "model_module_version": "1.5.0",
          "state": {
            "_view_name": "HTMLView",
            "style": "IPY_MODEL_c9945c93137241df9ae806eb3c6d5a6d",
            "_dom_classes": [],
            "description": "",
            "_model_name": "HTMLModel",
            "placeholder": "​",
            "_view_module": "@jupyter-widgets/controls",
            "_model_module_version": "1.5.0",
            "value": "Done! Use &#x27;show&#x27; commands to display/save.   ",
            "_view_count": null,
            "_view_module_version": "1.5.0",
            "description_tooltip": null,
            "_model_module": "@jupyter-widgets/controls",
            "layout": "IPY_MODEL_744b32ae4dc048c984b2653c4305e8e1"
          }
        },
        "558487f4db73441eb528c7fadcde7f6b": {
          "model_module": "@jupyter-widgets/controls",
          "model_name": "FloatProgressModel",
          "model_module_version": "1.5.0",
          "state": {
            "_view_name": "ProgressView",
            "style": "IPY_MODEL_d8c7b9c47936438a8bb7c5f56348078e",
            "_dom_classes": [],
            "description": "",
            "_model_name": "FloatProgressModel",
            "bar_style": "success",
            "max": 1,
            "_view_module": "@jupyter-widgets/controls",
            "_model_module_version": "1.5.0",
            "value": 1,
            "_view_count": null,
            "_view_module_version": "1.5.0",
            "orientation": "horizontal",
            "min": 0,
            "description_tooltip": null,
            "_model_module": "@jupyter-widgets/controls",
            "layout": "IPY_MODEL_0c9d6ec4d2f740acaca7ecaee532f2f3"
          }
        },
        "d276fe22792948f29505d48e07ef97ea": {
          "model_module": "@jupyter-widgets/controls",
          "model_name": "HTMLModel",
          "model_module_version": "1.5.0",
          "state": {
            "_view_name": "HTMLView",
            "style": "IPY_MODEL_8086932841c246bf9f0cc6cfc3475a6d",
            "_dom_classes": [],
            "description": "",
            "_model_name": "HTMLModel",
            "placeholder": "​",
            "_view_module": "@jupyter-widgets/controls",
            "_model_module_version": "1.5.0",
            "value": " [100%]   00:00 -&gt; (00:00 left)",
            "_view_count": null,
            "_view_module_version": "1.5.0",
            "description_tooltip": null,
            "_model_module": "@jupyter-widgets/controls",
            "layout": "IPY_MODEL_6ad6e1d3e2ac48b2829e4050b14c6b18"
          }
        },
        "c9945c93137241df9ae806eb3c6d5a6d": {
          "model_module": "@jupyter-widgets/controls",
          "model_name": "DescriptionStyleModel",
          "model_module_version": "1.5.0",
          "state": {
            "_view_name": "StyleView",
            "_model_name": "DescriptionStyleModel",
            "description_width": "",
            "_view_module": "@jupyter-widgets/base",
            "_model_module_version": "1.5.0",
            "_view_count": null,
            "_view_module_version": "1.2.0",
            "_model_module": "@jupyter-widgets/controls"
          }
        },
        "744b32ae4dc048c984b2653c4305e8e1": {
          "model_module": "@jupyter-widgets/base",
          "model_name": "LayoutModel",
          "model_module_version": "1.2.0",
          "state": {
            "_view_name": "LayoutView",
            "grid_template_rows": null,
            "right": null,
            "justify_content": null,
            "_view_module": "@jupyter-widgets/base",
            "overflow": null,
            "_model_module_version": "1.2.0",
            "_view_count": null,
            "flex_flow": null,
            "width": null,
            "min_width": null,
            "border": null,
            "align_items": null,
            "bottom": null,
            "_model_module": "@jupyter-widgets/base",
            "top": null,
            "grid_column": null,
            "overflow_y": null,
            "overflow_x": null,
            "grid_auto_flow": null,
            "grid_area": null,
            "grid_template_columns": null,
            "flex": null,
            "_model_name": "LayoutModel",
            "justify_items": null,
            "grid_row": null,
            "max_height": null,
            "align_content": null,
            "visibility": null,
            "align_self": null,
            "height": null,
            "min_height": null,
            "padding": null,
            "grid_auto_rows": null,
            "grid_gap": null,
            "max_width": null,
            "order": null,
            "_view_module_version": "1.2.0",
            "grid_template_areas": null,
            "object_position": null,
            "object_fit": null,
            "grid_auto_columns": null,
            "margin": null,
            "display": null,
            "left": null
          }
        },
        "d8c7b9c47936438a8bb7c5f56348078e": {
          "model_module": "@jupyter-widgets/controls",
          "model_name": "ProgressStyleModel",
          "model_module_version": "1.5.0",
          "state": {
            "_view_name": "StyleView",
            "_model_name": "ProgressStyleModel",
            "description_width": "",
            "_view_module": "@jupyter-widgets/base",
            "_model_module_version": "1.5.0",
            "_view_count": null,
            "_view_module_version": "1.2.0",
            "bar_color": null,
            "_model_module": "@jupyter-widgets/controls"
          }
        },
        "0c9d6ec4d2f740acaca7ecaee532f2f3": {
          "model_module": "@jupyter-widgets/base",
          "model_name": "LayoutModel",
          "model_module_version": "1.2.0",
          "state": {
            "_view_name": "LayoutView",
            "grid_template_rows": null,
            "right": null,
            "justify_content": null,
            "_view_module": "@jupyter-widgets/base",
            "overflow": null,
            "_model_module_version": "1.2.0",
            "_view_count": null,
            "flex_flow": null,
            "width": null,
            "min_width": null,
            "border": null,
            "align_items": null,
            "bottom": null,
            "_model_module": "@jupyter-widgets/base",
            "top": null,
            "grid_column": null,
            "overflow_y": null,
            "overflow_x": null,
            "grid_auto_flow": null,
            "grid_area": null,
            "grid_template_columns": null,
            "flex": "2",
            "_model_name": "LayoutModel",
            "justify_items": null,
            "grid_row": null,
            "max_height": null,
            "align_content": null,
            "visibility": null,
            "align_self": null,
            "height": null,
            "min_height": null,
            "padding": null,
            "grid_auto_rows": null,
            "grid_gap": null,
            "max_width": null,
            "order": null,
            "_view_module_version": "1.2.0",
            "grid_template_areas": null,
            "object_position": null,
            "object_fit": null,
            "grid_auto_columns": null,
            "margin": null,
            "display": null,
            "left": null
          }
        },
        "8086932841c246bf9f0cc6cfc3475a6d": {
          "model_module": "@jupyter-widgets/controls",
          "model_name": "DescriptionStyleModel",
          "model_module_version": "1.5.0",
          "state": {
            "_view_name": "StyleView",
            "_model_name": "DescriptionStyleModel",
            "description_width": "",
            "_view_module": "@jupyter-widgets/base",
            "_model_module_version": "1.5.0",
            "_view_count": null,
            "_view_module_version": "1.2.0",
            "_model_module": "@jupyter-widgets/controls"
          }
        },
        "6ad6e1d3e2ac48b2829e4050b14c6b18": {
          "model_module": "@jupyter-widgets/base",
          "model_name": "LayoutModel",
          "model_module_version": "1.2.0",
          "state": {
            "_view_name": "LayoutView",
            "grid_template_rows": null,
            "right": null,
            "justify_content": null,
            "_view_module": "@jupyter-widgets/base",
            "overflow": null,
            "_model_module_version": "1.2.0",
            "_view_count": null,
            "flex_flow": null,
            "width": null,
            "min_width": null,
            "border": null,
            "align_items": null,
            "bottom": null,
            "_model_module": "@jupyter-widgets/base",
            "top": null,
            "grid_column": null,
            "overflow_y": null,
            "overflow_x": null,
            "grid_auto_flow": null,
            "grid_area": null,
            "grid_template_columns": null,
            "flex": null,
            "_model_name": "LayoutModel",
            "justify_items": null,
            "grid_row": null,
            "max_height": null,
            "align_content": null,
            "visibility": null,
            "align_self": null,
            "height": null,
            "min_height": null,
            "padding": null,
            "grid_auto_rows": null,
            "grid_gap": null,
            "max_width": null,
            "order": null,
            "_view_module_version": "1.2.0",
            "grid_template_areas": null,
            "object_position": null,
            "object_fit": null,
            "grid_auto_columns": null,
            "margin": null,
            "display": null,
            "left": null
          }
        }
      }
    },
    "accelerator": "GPU"
  },
  "cells": [
    {
      "cell_type": "code",
      "metadata": {
        "colab": {
          "base_uri": "https://localhost:8080/"
        },
        "id": "skW_XrRYVFcT",
        "outputId": "69fe625b-1768-4b1b-c12c-432f773ecdfa"
      },
      "source": [
        "# mount google drive into colab\n",
        "from google.colab import drive\n",
        "drive.mount('/content/drive')"
      ],
      "execution_count": null,
      "outputs": [
        {
          "output_type": "stream",
          "text": [
            "Drive already mounted at /content/drive; to attempt to forcibly remount, call drive.mount(\"/content/drive\", force_remount=True).\n"
          ],
          "name": "stdout"
        }
      ]
    },
    {
      "cell_type": "code",
      "metadata": {
        "colab": {
          "base_uri": "https://localhost:8080/"
        },
        "id": "yg9wCmOMVTqb",
        "outputId": "9de0f0fc-6675-465f-ea02-25853cd77cfd"
      },
      "source": [
        "# change directrory to google drive files\n",
        "%cd /content/drive/MyDrive/Rahnema/"
      ],
      "execution_count": null,
      "outputs": [
        {
          "output_type": "stream",
          "text": [
            "/content/drive/MyDrive/Rahnema\n"
          ],
          "name": "stdout"
        }
      ]
    },
    {
      "cell_type": "code",
      "metadata": {
        "id": "H8l5ecfxV0rh"
      },
      "source": [
        "#!wget http://gitlab.rahnemacollege.com/rahnemacollege/tuning-registration-JusticeInWork/raw/master/dataset.csv"
      ],
      "execution_count": null,
      "outputs": []
    },
    {
      "cell_type": "code",
      "metadata": {
        "id": "cvN24p8rdKvg"
      },
      "source": [
        "# install libraries\n",
        "%%capture\n",
        "!pip install sweetviz\n",
        "!pip install optuna\n",
        "!pip install catboost"
      ],
      "execution_count": null,
      "outputs": []
    },
    {
      "cell_type": "code",
      "metadata": {
        "id": "uIz2UHU5XvyG"
      },
      "source": [
        "# import libraries\n",
        "import pandas as pd\n",
        "import numpy as np\n",
        "\n",
        "import sweetviz as sv\n",
        "import matplotlib.pyplot as plt\n",
        "import seaborn as sns\n",
        "\n",
        "import optuna\n",
        "import catboost as cb\n",
        "from catboost import Pool, CatBoostClassifier\n",
        "\n",
        "from sklearn import metrics\n",
        "from sklearn.model_selection import train_test_split\n",
        "from sklearn.metrics import accuracy_score, matthews_corrcoef, f1_score\n",
        "from sklearn.metrics import classification_report"
      ],
      "execution_count": null,
      "outputs": []
    },
    {
      "cell_type": "markdown",
      "metadata": {
        "id": "l3TNB_KRjDDp"
      },
      "source": [
        "***\n",
        "# EDA"
      ]
    },
    {
      "cell_type": "code",
      "metadata": {
        "colab": {
          "base_uri": "https://localhost:8080/",
          "height": 218
        },
        "id": "4VsyIJwtWJtV",
        "outputId": "68047017-a455-4646-a1ff-93164467e9e0"
      },
      "source": [
        "# read data \n",
        "df = pd.read_csv('dataset.csv')\n",
        "df.head()"
      ],
      "execution_count": null,
      "outputs": [
        {
          "output_type": "execute_result",
          "data": {
            "text/html": [
              "<div>\n",
              "<style scoped>\n",
              "    .dataframe tbody tr th:only-of-type {\n",
              "        vertical-align: middle;\n",
              "    }\n",
              "\n",
              "    .dataframe tbody tr th {\n",
              "        vertical-align: top;\n",
              "    }\n",
              "\n",
              "    .dataframe thead th {\n",
              "        text-align: right;\n",
              "    }\n",
              "</style>\n",
              "<table border=\"1\" class=\"dataframe\">\n",
              "  <thead>\n",
              "    <tr style=\"text-align: right;\">\n",
              "      <th></th>\n",
              "      <th>id</th>\n",
              "      <th>ProId</th>\n",
              "      <th>ProCreationTimestamp</th>\n",
              "      <th>CustId</th>\n",
              "      <th>CustCreationTimestamp</th>\n",
              "      <th>Rate</th>\n",
              "      <th>TaskCreationTimestamp</th>\n",
              "      <th>Price</th>\n",
              "      <th>ServiceId</th>\n",
              "      <th>CategoryId</th>\n",
              "      <th>ZoneId</th>\n",
              "      <th>TaskState</th>\n",
              "      <th>TargetProId</th>\n",
              "      <th>isFraud</th>\n",
              "    </tr>\n",
              "  </thead>\n",
              "  <tbody>\n",
              "    <tr>\n",
              "      <th>0</th>\n",
              "      <td>VkSa32MyS738HMkfk4tEfk</td>\n",
              "      <td>vqUkxUDuEmB7gHWQvcYrBn</td>\n",
              "      <td>1552751751302</td>\n",
              "      <td>SgcxJApdnttAvEN9865TSZ</td>\n",
              "      <td>1565441404199</td>\n",
              "      <td>5</td>\n",
              "      <td>1565608270089</td>\n",
              "      <td>362000.0</td>\n",
              "      <td>bKv8JeCDhHBCe8SnfDcv66</td>\n",
              "      <td>VzkJEPR5H3mnqctJ8TW3YS</td>\n",
              "      <td>98DpwFpuLYJtF6jajghriE</td>\n",
              "      <td>Finished</td>\n",
              "      <td>vqUkxUDuEmB7gHWQvcYrBn</td>\n",
              "      <td>False</td>\n",
              "    </tr>\n",
              "    <tr>\n",
              "      <th>1</th>\n",
              "      <td>FDPHLhrcjx3Gww4syg43Po</td>\n",
              "      <td>KaLEhwzZxCQ7GjPmVwBVav</td>\n",
              "      <td>1558262535289</td>\n",
              "      <td>EveEDVPDDDq3Ljh3bg8Exn</td>\n",
              "      <td>1561655121208</td>\n",
              "      <td>5</td>\n",
              "      <td>1563280381472</td>\n",
              "      <td>NaN</td>\n",
              "      <td>aegfi8HeWASAP6a9YkddeL</td>\n",
              "      <td>VzkJEPR5H3mnqctJ8TW3YS</td>\n",
              "      <td>XZCnwH2vCRhHReoVx9X3XV</td>\n",
              "      <td>Finished</td>\n",
              "      <td>YvvjyjpmXxj43RJGBHPq2n</td>\n",
              "      <td>False</td>\n",
              "    </tr>\n",
              "    <tr>\n",
              "      <th>2</th>\n",
              "      <td>6Z7CCQoHpC8ga8KZbsgUbx</td>\n",
              "      <td>pybDYgTiCUv3Pv3WLgxKCM</td>\n",
              "      <td>1558538960723</td>\n",
              "      <td>mrDLWRmWuxGD7TVPAsD5X6</td>\n",
              "      <td>1545554406049</td>\n",
              "      <td>1</td>\n",
              "      <td>1566297337468</td>\n",
              "      <td>NaN</td>\n",
              "      <td>uDHVz7XXXRCkGKWRUe2jKp</td>\n",
              "      <td>VzkJEPR5H3mnqctJ8TW3YS</td>\n",
              "      <td>XZCnwH2vCRhHReoVx9X3XV</td>\n",
              "      <td>Finished</td>\n",
              "      <td>NaN</td>\n",
              "      <td>False</td>\n",
              "    </tr>\n",
              "    <tr>\n",
              "      <th>3</th>\n",
              "      <td>n5DKFF8SJYoP57ypvpCEg5</td>\n",
              "      <td>zqPiDV33KwrMBZoyeQXMJW</td>\n",
              "      <td>1507727811649</td>\n",
              "      <td>aK3MnLeQywfLYMJJNyu7i8</td>\n",
              "      <td>1512288789660</td>\n",
              "      <td>4</td>\n",
              "      <td>1522825078700</td>\n",
              "      <td>NaN</td>\n",
              "      <td>Jy7nZvUqvwDUhcAG59wPcg</td>\n",
              "      <td>VzkJEPR5H3mnqctJ8TW3YS</td>\n",
              "      <td>XZCnwH2vCRhHReoVx9X3XV</td>\n",
              "      <td>Finished</td>\n",
              "      <td>NaN</td>\n",
              "      <td>False</td>\n",
              "    </tr>\n",
              "    <tr>\n",
              "      <th>4</th>\n",
              "      <td>oCwEhmYhhzHkuZyqQCusFU</td>\n",
              "      <td>CR8z3ThPyzBKXFqqzemQAS</td>\n",
              "      <td>1560860808052</td>\n",
              "      <td>vHjzucgXFu9eA9YhuEeuk4</td>\n",
              "      <td>1561328838459</td>\n",
              "      <td>1</td>\n",
              "      <td>1564542737897</td>\n",
              "      <td>150000.0</td>\n",
              "      <td>f8o6yBmfeJiUTAmvpRCFAZ</td>\n",
              "      <td>VzkJEPR5H3mnqctJ8TW3YS</td>\n",
              "      <td>XZCnwH2vCRhHReoVx9X3XV</td>\n",
              "      <td>Finished</td>\n",
              "      <td>NaN</td>\n",
              "      <td>False</td>\n",
              "    </tr>\n",
              "  </tbody>\n",
              "</table>\n",
              "</div>"
            ],
            "text/plain": [
              "                       id  ... isFraud\n",
              "0  VkSa32MyS738HMkfk4tEfk  ...   False\n",
              "1  FDPHLhrcjx3Gww4syg43Po  ...   False\n",
              "2  6Z7CCQoHpC8ga8KZbsgUbx  ...   False\n",
              "3  n5DKFF8SJYoP57ypvpCEg5  ...   False\n",
              "4  oCwEhmYhhzHkuZyqQCusFU  ...   False\n",
              "\n",
              "[5 rows x 14 columns]"
            ]
          },
          "metadata": {
            "tags": []
          },
          "execution_count": 6
        }
      ]
    },
    {
      "cell_type": "code",
      "metadata": {
        "colab": {
          "base_uri": "https://localhost:8080/",
          "height": 87,
          "referenced_widgets": [
            "f76b6567070744ab9464d01d2a9aab78",
            "8c1e2f346c814f12b06d4ed2c91ca144",
            "870b9647ea7f404aadb29ba1f1fd2ac5",
            "558487f4db73441eb528c7fadcde7f6b",
            "d276fe22792948f29505d48e07ef97ea",
            "c9945c93137241df9ae806eb3c6d5a6d",
            "744b32ae4dc048c984b2653c4305e8e1",
            "d8c7b9c47936438a8bb7c5f56348078e",
            "0c9d6ec4d2f740acaca7ecaee532f2f3",
            "8086932841c246bf9f0cc6cfc3475a6d",
            "6ad6e1d3e2ac48b2829e4050b14c6b18"
          ]
        },
        "id": "bxqF_qz2dWNH",
        "outputId": "b0307c10-b3dc-4692-cc65-52c11adece52"
      },
      "source": [
        "# visualization by sweetviz saved in .html\n",
        "df_report = sv.analyze(df)\n",
        "df_report.show_html('EDA_report.html')"
      ],
      "execution_count": null,
      "outputs": [
        {
          "output_type": "display_data",
          "data": {
            "application/vnd.jupyter.widget-view+json": {
              "model_id": "f76b6567070744ab9464d01d2a9aab78",
              "version_minor": 0,
              "version_major": 2
            },
            "text/plain": [
              "                                             |          | [  0%]   00:00 -> (? left)"
            ]
          },
          "metadata": {
            "tags": []
          }
        },
        {
          "output_type": "stream",
          "text": [
            "Report EDA_report.html was generated! NOTEBOOK/COLAB USERS: the web browser MAY not pop up, regardless, the report IS saved in your notebook/colab files.\n"
          ],
          "name": "stdout"
        }
      ]
    },
    {
      "cell_type": "code",
      "metadata": {
        "colab": {
          "base_uri": "https://localhost:8080/"
        },
        "id": "Kt_V_qbfdZAP",
        "outputId": "53c1137c-8a13-442f-8f8d-ef52695e3fca"
      },
      "source": [
        "print(\"Dimension of dataframe: \", df.shape)"
      ],
      "execution_count": null,
      "outputs": [
        {
          "output_type": "stream",
          "text": [
            "Dimension of dataframe:  (24855, 14)\n"
          ],
          "name": "stdout"
        }
      ]
    },
    {
      "cell_type": "code",
      "metadata": {
        "colab": {
          "base_uri": "https://localhost:8080/"
        },
        "id": "EM9Z7hhWXv-p",
        "outputId": "f8816242-aacd-4c42-b850-8c03bbb29efd"
      },
      "source": [
        "print('Columns data types:')\n",
        "print(df.dtypes)"
      ],
      "execution_count": null,
      "outputs": [
        {
          "output_type": "stream",
          "text": [
            "Columns data types:\n",
            "id                        object\n",
            "ProId                     object\n",
            "ProCreationTimestamp       int64\n",
            "CustId                    object\n",
            "CustCreationTimestamp      int64\n",
            "Rate                       int64\n",
            "TaskCreationTimestamp      int64\n",
            "Price                    float64\n",
            "ServiceId                 object\n",
            "CategoryId                object\n",
            "ZoneId                    object\n",
            "TaskState                 object\n",
            "TargetProId               object\n",
            "isFraud                     bool\n",
            "dtype: object\n"
          ],
          "name": "stdout"
        }
      ]
    },
    {
      "cell_type": "code",
      "metadata": {
        "colab": {
          "base_uri": "https://localhost:8080/",
          "height": 398
        },
        "id": "59P8yHvmW57g",
        "outputId": "5bbf02e6-ff39-489b-bdfa-4f33cffafa5c"
      },
      "source": [
        "# summary of statistics\n",
        "df.describe(include='all')"
      ],
      "execution_count": null,
      "outputs": [
        {
          "output_type": "execute_result",
          "data": {
            "text/html": [
              "<div>\n",
              "<style scoped>\n",
              "    .dataframe tbody tr th:only-of-type {\n",
              "        vertical-align: middle;\n",
              "    }\n",
              "\n",
              "    .dataframe tbody tr th {\n",
              "        vertical-align: top;\n",
              "    }\n",
              "\n",
              "    .dataframe thead th {\n",
              "        text-align: right;\n",
              "    }\n",
              "</style>\n",
              "<table border=\"1\" class=\"dataframe\">\n",
              "  <thead>\n",
              "    <tr style=\"text-align: right;\">\n",
              "      <th></th>\n",
              "      <th>id</th>\n",
              "      <th>ProId</th>\n",
              "      <th>ProCreationTimestamp</th>\n",
              "      <th>CustId</th>\n",
              "      <th>CustCreationTimestamp</th>\n",
              "      <th>Rate</th>\n",
              "      <th>TaskCreationTimestamp</th>\n",
              "      <th>Price</th>\n",
              "      <th>ServiceId</th>\n",
              "      <th>CategoryId</th>\n",
              "      <th>ZoneId</th>\n",
              "      <th>TaskState</th>\n",
              "      <th>TargetProId</th>\n",
              "      <th>isFraud</th>\n",
              "    </tr>\n",
              "  </thead>\n",
              "  <tbody>\n",
              "    <tr>\n",
              "      <th>count</th>\n",
              "      <td>24855</td>\n",
              "      <td>24855</td>\n",
              "      <td>2.485500e+04</td>\n",
              "      <td>24855</td>\n",
              "      <td>2.485500e+04</td>\n",
              "      <td>24855.000000</td>\n",
              "      <td>2.485500e+04</td>\n",
              "      <td>1.886600e+04</td>\n",
              "      <td>24855</td>\n",
              "      <td>24855</td>\n",
              "      <td>24855</td>\n",
              "      <td>24855</td>\n",
              "      <td>2551</td>\n",
              "      <td>24855</td>\n",
              "    </tr>\n",
              "    <tr>\n",
              "      <th>unique</th>\n",
              "      <td>24855</td>\n",
              "      <td>4161</td>\n",
              "      <td>NaN</td>\n",
              "      <td>19284</td>\n",
              "      <td>NaN</td>\n",
              "      <td>NaN</td>\n",
              "      <td>NaN</td>\n",
              "      <td>NaN</td>\n",
              "      <td>213</td>\n",
              "      <td>8</td>\n",
              "      <td>43</td>\n",
              "      <td>3</td>\n",
              "      <td>980</td>\n",
              "      <td>2</td>\n",
              "    </tr>\n",
              "    <tr>\n",
              "      <th>top</th>\n",
              "      <td>MBYR3tvbAf39LLvCgpjZ4t</td>\n",
              "      <td>qv8L6yefk2guJzZn4FtGMj</td>\n",
              "      <td>NaN</td>\n",
              "      <td>muDxBgbnj7oWew7k6stcLw</td>\n",
              "      <td>NaN</td>\n",
              "      <td>NaN</td>\n",
              "      <td>NaN</td>\n",
              "      <td>NaN</td>\n",
              "      <td>UX7m6RWnKWvmw82URCyUMB</td>\n",
              "      <td>VzkJEPR5H3mnqctJ8TW3YS</td>\n",
              "      <td>XZCnwH2vCRhHReoVx9X3XV</td>\n",
              "      <td>Finished</td>\n",
              "      <td>q8yHdbLDLMfoyaMfHB3Ydi</td>\n",
              "      <td>False</td>\n",
              "    </tr>\n",
              "    <tr>\n",
              "      <th>freq</th>\n",
              "      <td>1</td>\n",
              "      <td>700</td>\n",
              "      <td>NaN</td>\n",
              "      <td>24</td>\n",
              "      <td>NaN</td>\n",
              "      <td>NaN</td>\n",
              "      <td>NaN</td>\n",
              "      <td>NaN</td>\n",
              "      <td>4203</td>\n",
              "      <td>22629</td>\n",
              "      <td>18593</td>\n",
              "      <td>24853</td>\n",
              "      <td>81</td>\n",
              "      <td>23315</td>\n",
              "    </tr>\n",
              "    <tr>\n",
              "      <th>mean</th>\n",
              "      <td>NaN</td>\n",
              "      <td>NaN</td>\n",
              "      <td>1.543041e+12</td>\n",
              "      <td>NaN</td>\n",
              "      <td>1.551509e+12</td>\n",
              "      <td>4.300060</td>\n",
              "      <td>1.556126e+12</td>\n",
              "      <td>5.137638e+05</td>\n",
              "      <td>NaN</td>\n",
              "      <td>NaN</td>\n",
              "      <td>NaN</td>\n",
              "      <td>NaN</td>\n",
              "      <td>NaN</td>\n",
              "      <td>NaN</td>\n",
              "    </tr>\n",
              "    <tr>\n",
              "      <th>std</th>\n",
              "      <td>NaN</td>\n",
              "      <td>NaN</td>\n",
              "      <td>1.639979e+10</td>\n",
              "      <td>NaN</td>\n",
              "      <td>1.611063e+10</td>\n",
              "      <td>1.295984</td>\n",
              "      <td>1.515062e+10</td>\n",
              "      <td>4.707420e+06</td>\n",
              "      <td>NaN</td>\n",
              "      <td>NaN</td>\n",
              "      <td>NaN</td>\n",
              "      <td>NaN</td>\n",
              "      <td>NaN</td>\n",
              "      <td>NaN</td>\n",
              "    </tr>\n",
              "    <tr>\n",
              "      <th>min</th>\n",
              "      <td>NaN</td>\n",
              "      <td>NaN</td>\n",
              "      <td>1.507728e+12</td>\n",
              "      <td>NaN</td>\n",
              "      <td>1.497352e+12</td>\n",
              "      <td>-3.000000</td>\n",
              "      <td>1.497352e+12</td>\n",
              "      <td>0.000000e+00</td>\n",
              "      <td>NaN</td>\n",
              "      <td>NaN</td>\n",
              "      <td>NaN</td>\n",
              "      <td>NaN</td>\n",
              "      <td>NaN</td>\n",
              "      <td>NaN</td>\n",
              "    </tr>\n",
              "    <tr>\n",
              "      <th>25%</th>\n",
              "      <td>NaN</td>\n",
              "      <td>NaN</td>\n",
              "      <td>1.532284e+12</td>\n",
              "      <td>NaN</td>\n",
              "      <td>1.542107e+12</td>\n",
              "      <td>4.000000</td>\n",
              "      <td>1.548399e+12</td>\n",
              "      <td>6.500000e+04</td>\n",
              "      <td>NaN</td>\n",
              "      <td>NaN</td>\n",
              "      <td>NaN</td>\n",
              "      <td>NaN</td>\n",
              "      <td>NaN</td>\n",
              "      <td>NaN</td>\n",
              "    </tr>\n",
              "    <tr>\n",
              "      <th>50%</th>\n",
              "      <td>NaN</td>\n",
              "      <td>NaN</td>\n",
              "      <td>1.544953e+12</td>\n",
              "      <td>NaN</td>\n",
              "      <td>1.554988e+12</td>\n",
              "      <td>5.000000</td>\n",
              "      <td>1.559747e+12</td>\n",
              "      <td>1.100000e+05</td>\n",
              "      <td>NaN</td>\n",
              "      <td>NaN</td>\n",
              "      <td>NaN</td>\n",
              "      <td>NaN</td>\n",
              "      <td>NaN</td>\n",
              "      <td>NaN</td>\n",
              "    </tr>\n",
              "    <tr>\n",
              "      <th>75%</th>\n",
              "      <td>NaN</td>\n",
              "      <td>NaN</td>\n",
              "      <td>1.555941e+12</td>\n",
              "      <td>NaN</td>\n",
              "      <td>1.563548e+12</td>\n",
              "      <td>5.000000</td>\n",
              "      <td>1.567247e+12</td>\n",
              "      <td>2.820000e+05</td>\n",
              "      <td>NaN</td>\n",
              "      <td>NaN</td>\n",
              "      <td>NaN</td>\n",
              "      <td>NaN</td>\n",
              "      <td>NaN</td>\n",
              "      <td>NaN</td>\n",
              "    </tr>\n",
              "    <tr>\n",
              "      <th>max</th>\n",
              "      <td>NaN</td>\n",
              "      <td>NaN</td>\n",
              "      <td>1.575833e+12</td>\n",
              "      <td>NaN</td>\n",
              "      <td>1.575906e+12</td>\n",
              "      <td>5.000000</td>\n",
              "      <td>1.575960e+12</td>\n",
              "      <td>3.600000e+08</td>\n",
              "      <td>NaN</td>\n",
              "      <td>NaN</td>\n",
              "      <td>NaN</td>\n",
              "      <td>NaN</td>\n",
              "      <td>NaN</td>\n",
              "      <td>NaN</td>\n",
              "    </tr>\n",
              "  </tbody>\n",
              "</table>\n",
              "</div>"
            ],
            "text/plain": [
              "                            id  ... isFraud\n",
              "count                    24855  ...   24855\n",
              "unique                   24855  ...       2\n",
              "top     MBYR3tvbAf39LLvCgpjZ4t  ...   False\n",
              "freq                         1  ...   23315\n",
              "mean                       NaN  ...     NaN\n",
              "std                        NaN  ...     NaN\n",
              "min                        NaN  ...     NaN\n",
              "25%                        NaN  ...     NaN\n",
              "50%                        NaN  ...     NaN\n",
              "75%                        NaN  ...     NaN\n",
              "max                        NaN  ...     NaN\n",
              "\n",
              "[11 rows x 14 columns]"
            ]
          },
          "metadata": {
            "tags": []
          },
          "execution_count": 10
        }
      ]
    },
    {
      "cell_type": "code",
      "metadata": {
        "colab": {
          "base_uri": "https://localhost:8080/",
          "height": 491
        },
        "id": "Y0HCHFFV5Wde",
        "outputId": "fd4f8724-d696-463a-97b8-454321ca39e3"
      },
      "source": [
        "# corrolation matrix\n",
        "corrMatrix = df.corr()\n",
        "sns.heatmap(corrMatrix, annot=True, cmap=\"YlGnBu\")\n",
        "plt.title('Confusion Matrix')\n",
        "plt.show()"
      ],
      "execution_count": null,
      "outputs": [
        {
          "output_type": "display_data",
          "data": {
            "image/png": "[encoded data removed]",
            "text/plain": [
              "<Figure size 600x400 with 2 Axes>"
            ]
          },
          "metadata": {
            "tags": []
          }
        }
      ]
    },
    {
      "cell_type": "code",
      "metadata": {
        "colab": {
          "base_uri": "https://localhost:8080/",
          "height": 707
        },
        "id": "z8fpSfHBwJQD",
        "outputId": "ff9814cd-ca1e-4128-b6c1-ad466496a0a4"
      },
      "source": [
        "df_fraud = df['isFraud'].value_counts()\n",
        "df_rate = df[df['isFraud'] == 1].groupby('Rate')['isFraud'].count().sort_values(ascending=False)\n",
        "df_catid = df[df['isFraud'] == 1].groupby('CategoryId')['isFraud'].count().sort_values(ascending=False)\n",
        "df_zoneid = df[df['isFraud'] == 1].groupby('ZoneId')['isFraud'].count().sort_values(ascending=False)[:10]\n",
        "\n",
        "fig, axes = plt.subplots(nrows=2, ncols=2, figsize=(10,7))\n",
        "df_fraud.plot(kind='bar', ax=axes[0,0], title='Distribution of isFraud')\n",
        "df_rate.plot(kind='bar', ax=axes[0,1], title='Distribution of Rate when isFraud is True')\n",
        "df_catid.plot(kind='bar',  ax=axes[1,0], title='Distribution of CategoryId when isFraud is True')\n",
        "df_zoneid.plot(kind='bar', ax=axes[1,1], title='First ten ZoneId when isFraud is True')\n",
        "fig.tight_layout()"
      ],
      "execution_count": null,
      "outputs": [
        {
          "output_type": "display_data",
          "data": {
            "image/png": "[encoded data removed]",
            "text/plain": [
              "<Figure size 1000x700 with 4 Axes>"
            ]
          },
          "metadata": {
            "tags": []
          }
        }
      ]
    },
    {
      "cell_type": "code",
      "metadata": {
        "colab": {
          "base_uri": "https://localhost:8080/"
        },
        "id": "tCbdwzzgLNYC",
        "outputId": "ab35d383-0fa8-4274-f2e5-c6f2de4bfdf7"
      },
      "source": [
        "cond_true = df[df['isFraud'] == True]\n",
        "cond_false = df[df['isFraud'] == False]\n",
        "per = len(cond_true) / len(cond_false) * 100\n",
        "print('Percentage of Fraud class: {}%'.format(round(per, 2)))"
      ],
      "execution_count": null,
      "outputs": [
        {
          "output_type": "stream",
          "text": [
            "Percentage of Fraud class: 6.61%\n"
          ],
          "name": "stdout"
        }
      ]
    },
    {
      "cell_type": "code",
      "metadata": {
        "colab": {
          "base_uri": "https://localhost:8080/"
        },
        "id": "PCar2iDRWgj2",
        "outputId": "7641656a-d978-434c-e046-2f91fba9aad4"
      },
      "source": [
        "print('Percentage of NaN at each column in a DataFrame: ')\n",
        "print(round(df.isnull().sum() * 100 / df.shape[0], 2)) "
      ],
      "execution_count": null,
      "outputs": [
        {
          "output_type": "stream",
          "text": [
            "Percentage of NaN at each column in a DataFrame: \n",
            "id                        0.00\n",
            "ProId                     0.00\n",
            "ProCreationTimestamp      0.00\n",
            "CustId                    0.00\n",
            "CustCreationTimestamp     0.00\n",
            "Rate                      0.00\n",
            "TaskCreationTimestamp     0.00\n",
            "Price                    24.10\n",
            "ServiceId                 0.00\n",
            "CategoryId                0.00\n",
            "ZoneId                    0.00\n",
            "TaskState                 0.00\n",
            "TargetProId              89.74\n",
            "isFraud                   0.00\n",
            "dtype: float64\n"
          ],
          "name": "stdout"
        }
      ]
    },
    {
      "cell_type": "markdown",
      "metadata": {
        "id": "RuwwvYUaEa45"
      },
      "source": [
        "***\n",
        "# Feature Engineering"
      ]
    },
    {
      "cell_type": "code",
      "metadata": {
        "id": "Hi6A7ma_TMtg"
      },
      "source": [
        "def feature_engineering(df):\n",
        "  # drop duplicate rows\n",
        "  df = df.drop_duplicates()\n",
        "  \n",
        "  # handle missing values of Price column\n",
        "  df['isMissed_Price'] = df['Price'].apply(lambda val:1 if np.isnan(val)==True else 0)\n",
        "  df['Price'].fillna(round(df['Price'].mean(), 1), inplace=True)\n",
        "  \n",
        "  # drop rows with TaskState other than Finished\n",
        "  cond = df[df['TaskState'] != 'Finished']\n",
        "  df.drop(cond.index, inplace=True)\n",
        "  \n",
        "  # drop unwanted columns\n",
        "  columns_must_drop = ['id', 'TargetProId', 'TaskState'] \n",
        "  df.drop(columns_must_drop, inplace = True, axis = 1)  \n",
        "  \n",
        "  # create new columns based on existing columns\n",
        "  df['Cust-Pro']  = df['CustCreationTimestamp'] - df['ProCreationTimestamp']\n",
        "  df['Task-Cust'] = df['TaskCreationTimestamp'] - df['CustCreationTimestamp']\n",
        "  df['Task-Pro']  = df['TaskCreationTimestamp'] - df['ProCreationTimestamp']\n",
        "\n",
        "  df['Pro+Cust']  = df['ProId'] + df['CustId']\n",
        "  df['Serv+Cat']  = df['ServiceId'] + df['CategoryId']\n",
        "\n",
        "  df['Price*Rate'] = df['Price'] * df['Rate']\n",
        "  \n",
        "  # change isFraud into integer rather than boolean\n",
        "  df['isFraud'] = df['isFraud'].astype(int) \n",
        "\n",
        "  return df"
      ],
      "execution_count": null,
      "outputs": []
    },
    {
      "cell_type": "code",
      "metadata": {
        "colab": {
          "base_uri": "https://localhost:8080/",
          "height": 218
        },
        "id": "Wsdiu-thM36g",
        "outputId": "aa425983-9714-45c1-9d13-2dedd813b4df"
      },
      "source": [
        "df = feature_engineering(df)\n",
        "df.head()"
      ],
      "execution_count": null,
      "outputs": [
        {
          "output_type": "execute_result",
          "data": {
            "text/html": [
              "<div>\n",
              "<style scoped>\n",
              "    .dataframe tbody tr th:only-of-type {\n",
              "        vertical-align: middle;\n",
              "    }\n",
              "\n",
              "    .dataframe tbody tr th {\n",
              "        vertical-align: top;\n",
              "    }\n",
              "\n",
              "    .dataframe thead th {\n",
              "        text-align: right;\n",
              "    }\n",
              "</style>\n",
              "<table border=\"1\" class=\"dataframe\">\n",
              "  <thead>\n",
              "    <tr style=\"text-align: right;\">\n",
              "      <th></th>\n",
              "      <th>ProId</th>\n",
              "      <th>ProCreationTimestamp</th>\n",
              "      <th>CustId</th>\n",
              "      <th>CustCreationTimestamp</th>\n",
              "      <th>Rate</th>\n",
              "      <th>TaskCreationTimestamp</th>\n",
              "      <th>Price</th>\n",
              "      <th>ServiceId</th>\n",
              "      <th>CategoryId</th>\n",
              "      <th>ZoneId</th>\n",
              "      <th>isFraud</th>\n",
              "      <th>isMissed_Price</th>\n",
              "      <th>Cust-Pro</th>\n",
              "      <th>Task-Cust</th>\n",
              "      <th>Task-Pro</th>\n",
              "      <th>Pro+Cust</th>\n",
              "      <th>Serv+Cat</th>\n",
              "      <th>Price*Rate</th>\n",
              "    </tr>\n",
              "  </thead>\n",
              "  <tbody>\n",
              "    <tr>\n",
              "      <th>0</th>\n",
              "      <td>vqUkxUDuEmB7gHWQvcYrBn</td>\n",
              "      <td>1552751751302</td>\n",
              "      <td>SgcxJApdnttAvEN9865TSZ</td>\n",
              "      <td>1565441404199</td>\n",
              "      <td>5</td>\n",
              "      <td>1565608270089</td>\n",
              "      <td>362000.0</td>\n",
              "      <td>bKv8JeCDhHBCe8SnfDcv66</td>\n",
              "      <td>VzkJEPR5H3mnqctJ8TW3YS</td>\n",
              "      <td>98DpwFpuLYJtF6jajghriE</td>\n",
              "      <td>0</td>\n",
              "      <td>0</td>\n",
              "      <td>12689652897</td>\n",
              "      <td>166865890</td>\n",
              "      <td>12856518787</td>\n",
              "      <td>vqUkxUDuEmB7gHWQvcYrBnSgcxJApdnttAvEN9865TSZ</td>\n",
              "      <td>bKv8JeCDhHBCe8SnfDcv66VzkJEPR5H3mnqctJ8TW3YS</td>\n",
              "      <td>1810000.0</td>\n",
              "    </tr>\n",
              "    <tr>\n",
              "      <th>1</th>\n",
              "      <td>KaLEhwzZxCQ7GjPmVwBVav</td>\n",
              "      <td>1558262535289</td>\n",
              "      <td>EveEDVPDDDq3Ljh3bg8Exn</td>\n",
              "      <td>1561655121208</td>\n",
              "      <td>5</td>\n",
              "      <td>1563280381472</td>\n",
              "      <td>513763.8</td>\n",
              "      <td>aegfi8HeWASAP6a9YkddeL</td>\n",
              "      <td>VzkJEPR5H3mnqctJ8TW3YS</td>\n",
              "      <td>XZCnwH2vCRhHReoVx9X3XV</td>\n",
              "      <td>0</td>\n",
              "      <td>1</td>\n",
              "      <td>3392585919</td>\n",
              "      <td>1625260264</td>\n",
              "      <td>5017846183</td>\n",
              "      <td>KaLEhwzZxCQ7GjPmVwBVavEveEDVPDDDq3Ljh3bg8Exn</td>\n",
              "      <td>aegfi8HeWASAP6a9YkddeLVzkJEPR5H3mnqctJ8TW3YS</td>\n",
              "      <td>2568819.0</td>\n",
              "    </tr>\n",
              "    <tr>\n",
              "      <th>2</th>\n",
              "      <td>pybDYgTiCUv3Pv3WLgxKCM</td>\n",
              "      <td>1558538960723</td>\n",
              "      <td>mrDLWRmWuxGD7TVPAsD5X6</td>\n",
              "      <td>1545554406049</td>\n",
              "      <td>1</td>\n",
              "      <td>1566297337468</td>\n",
              "      <td>513763.8</td>\n",
              "      <td>uDHVz7XXXRCkGKWRUe2jKp</td>\n",
              "      <td>VzkJEPR5H3mnqctJ8TW3YS</td>\n",
              "      <td>XZCnwH2vCRhHReoVx9X3XV</td>\n",
              "      <td>0</td>\n",
              "      <td>1</td>\n",
              "      <td>-12984554674</td>\n",
              "      <td>20742931419</td>\n",
              "      <td>7758376745</td>\n",
              "      <td>pybDYgTiCUv3Pv3WLgxKCMmrDLWRmWuxGD7TVPAsD5X6</td>\n",
              "      <td>uDHVz7XXXRCkGKWRUe2jKpVzkJEPR5H3mnqctJ8TW3YS</td>\n",
              "      <td>513763.8</td>\n",
              "    </tr>\n",
              "    <tr>\n",
              "      <th>3</th>\n",
              "      <td>zqPiDV33KwrMBZoyeQXMJW</td>\n",
              "      <td>1507727811649</td>\n",
              "      <td>aK3MnLeQywfLYMJJNyu7i8</td>\n",
              "      <td>1512288789660</td>\n",
              "      <td>4</td>\n",
              "      <td>1522825078700</td>\n",
              "      <td>513763.8</td>\n",
              "      <td>Jy7nZvUqvwDUhcAG59wPcg</td>\n",
              "      <td>VzkJEPR5H3mnqctJ8TW3YS</td>\n",
              "      <td>XZCnwH2vCRhHReoVx9X3XV</td>\n",
              "      <td>0</td>\n",
              "      <td>1</td>\n",
              "      <td>4560978011</td>\n",
              "      <td>10536289040</td>\n",
              "      <td>15097267051</td>\n",
              "      <td>zqPiDV33KwrMBZoyeQXMJWaK3MnLeQywfLYMJJNyu7i8</td>\n",
              "      <td>Jy7nZvUqvwDUhcAG59wPcgVzkJEPR5H3mnqctJ8TW3YS</td>\n",
              "      <td>2055055.2</td>\n",
              "    </tr>\n",
              "    <tr>\n",
              "      <th>4</th>\n",
              "      <td>CR8z3ThPyzBKXFqqzemQAS</td>\n",
              "      <td>1560860808052</td>\n",
              "      <td>vHjzucgXFu9eA9YhuEeuk4</td>\n",
              "      <td>1561328838459</td>\n",
              "      <td>1</td>\n",
              "      <td>1564542737897</td>\n",
              "      <td>150000.0</td>\n",
              "      <td>f8o6yBmfeJiUTAmvpRCFAZ</td>\n",
              "      <td>VzkJEPR5H3mnqctJ8TW3YS</td>\n",
              "      <td>XZCnwH2vCRhHReoVx9X3XV</td>\n",
              "      <td>0</td>\n",
              "      <td>0</td>\n",
              "      <td>468030407</td>\n",
              "      <td>3213899438</td>\n",
              "      <td>3681929845</td>\n",
              "      <td>CR8z3ThPyzBKXFqqzemQASvHjzucgXFu9eA9YhuEeuk4</td>\n",
              "      <td>f8o6yBmfeJiUTAmvpRCFAZVzkJEPR5H3mnqctJ8TW3YS</td>\n",
              "      <td>150000.0</td>\n",
              "    </tr>\n",
              "  </tbody>\n",
              "</table>\n",
              "</div>"
            ],
            "text/plain": [
              "                    ProId  ...  Price*Rate\n",
              "0  vqUkxUDuEmB7gHWQvcYrBn  ...   1810000.0\n",
              "1  KaLEhwzZxCQ7GjPmVwBVav  ...   2568819.0\n",
              "2  pybDYgTiCUv3Pv3WLgxKCM  ...    513763.8\n",
              "3  zqPiDV33KwrMBZoyeQXMJW  ...   2055055.2\n",
              "4  CR8z3ThPyzBKXFqqzemQAS  ...    150000.0\n",
              "\n",
              "[5 rows x 18 columns]"
            ]
          },
          "metadata": {
            "tags": []
          },
          "execution_count": 16
        }
      ]
    },
    {
      "cell_type": "markdown",
      "metadata": {
        "id": "7jdO6HojW7KX"
      },
      "source": [
        "***\n",
        "# Train, Validation and Test sets\n"
      ]
    },
    {
      "cell_type": "code",
      "metadata": {
        "id": "3zHU8X9ng4fq"
      },
      "source": [
        "# define target column\n",
        "target = 'isFraud'\n",
        "# define categorical columns\n",
        "cat_features = df[['ProId', 'CustId', 'ServiceId', 'CategoryId', 'ZoneId', 'Pro+Cust', 'Serv+Cat']] \n",
        "\n",
        "# define features\n",
        "X = df.loc[:, df.columns != target]\n",
        "# define label \n",
        "y = df[target]\n",
        "\n",
        "# separate train from validation and test sets\n",
        "X_train, X_valtest, y_train, y_valtest = train_test_split(X,\n",
        "                                                          y,\n",
        "                                                          stratify = y,\n",
        "                                                          random_state = 1,\n",
        "                                                          test_size = 0.4)\n",
        "# seperate evenly validation and test set\n",
        "X_val, X_test, y_val, y_test = train_test_split(X_valtest, \n",
        "                                                y_valtest,\n",
        "                                                stratify = y_valtest, \n",
        "                                                random_state = 1, \n",
        "                                                test_size = 0.5)"
      ],
      "execution_count": null,
      "outputs": []
    },
    {
      "cell_type": "markdown",
      "metadata": {
        "id": "gFdzENFfYRMH"
      },
      "source": [
        "***\n",
        "# Hyper Parameter Tuning"
      ]
    },
    {
      "cell_type": "code",
      "metadata": {
        "id": "H_wVEiYDYe_E"
      },
      "source": [
        "def objective(trial):\n",
        "  # parameters\n",
        "  param = {\n",
        "      \"objective\": trial.suggest_categorical(\"objective\", [\"Logloss\"]),\n",
        "      \"colsample_bylevel\": trial.suggest_float(\"colsample_bylevel\", 0.01, 0.1),\n",
        "      \"depth\": trial.suggest_int(\"depth\", 1, 12),\n",
        "      \"boosting_type\": trial.suggest_categorical(\"boosting_type\", [\"Ordered\", \"Plain\"]),\n",
        "      \"bootstrap_type\": trial.suggest_categorical(\n",
        "          \"bootstrap_type\", [\"Bayesian\", \"Bernoulli\", \"MVS\"]\n",
        "      ),\n",
        "      \"used_ram_limit\": \"3gb\"\n",
        "  }\n",
        "\n",
        "  if param[\"bootstrap_type\"] == \"Bayesian\":\n",
        "      param[\"bagging_temperature\"] = trial.suggest_float(\"bagging_temperature\", 0, 10)\n",
        "  elif param[\"bootstrap_type\"] == \"Bernoulli\":\n",
        "      param[\"subsample\"] = trial.suggest_float(\"subsample\", 0.1, 1)\n",
        "\n",
        "  # catboost model\n",
        "  model = cb.CatBoostClassifier(**param, \n",
        "                                cat_features = cat_features, \n",
        "                                class_weights = [0.06, 0.94])\n",
        "  # train model\n",
        "  model.fit(X_train, \n",
        "            y_train, \n",
        "            eval_set = [(X_val, y_val)], \n",
        "            verbose = 0, \n",
        "            early_stopping_rounds = 10)\n",
        "\n",
        "  # predict\n",
        "  preds = model.predict(X_val)\n",
        "  pred_labels = np.rint(preds)\n",
        "\n",
        "  # metric\n",
        "  mcc = matthews_corrcoef(y_val, pred_labels)\n",
        "\n",
        "  return mcc"
      ],
      "execution_count": null,
      "outputs": []
    },
    {
      "cell_type": "code",
      "metadata": {
        "id": "Af29ld0hY8FR",
        "colab": {
          "base_uri": "https://localhost:8080/"
        },
        "outputId": "6560175d-04cd-40c9-b833-4f9300613042"
      },
      "source": [
        "# optuna optimization\n",
        "study = optuna.create_study(direction=\"maximize\")\n",
        "study.optimize(objective, n_trials=10, timeout=600)"
      ],
      "execution_count": null,
      "outputs": [
        {
          "output_type": "stream",
          "text": [
            "\u001b[32m[I 2021-03-21 18:46:26,725]\u001b[0m A new study created in memory with name: no-name-2130e442-5cf9-4d8d-b184-266afb0558c4\u001b[0m\n",
            "\u001b[32m[I 2021-03-21 18:46:29,085]\u001b[0m Trial 0 finished with value: 0.44007341210648065 and parameters: {'objective': 'Logloss', 'colsample_bylevel': 0.033148082426560366, 'depth': 2, 'boosting_type': 'Ordered', 'bootstrap_type': 'MVS'}. Best is trial 0 with value: 0.44007341210648065.\u001b[0m\n",
            "\u001b[32m[I 2021-03-21 18:46:32,273]\u001b[0m Trial 1 finished with value: 0.460040230896939 and parameters: {'objective': 'Logloss', 'colsample_bylevel': 0.09944866409719146, 'depth': 1, 'boosting_type': 'Ordered', 'bootstrap_type': 'MVS'}. Best is trial 1 with value: 0.460040230896939.\u001b[0m\n",
            "\u001b[32m[I 2021-03-21 18:46:32,624]\u001b[0m Trial 2 finished with value: 0.34823645227594346 and parameters: {'objective': 'Logloss', 'colsample_bylevel': 0.015933999120887565, 'depth': 3, 'boosting_type': 'Ordered', 'bootstrap_type': 'Bernoulli', 'subsample': 0.30604584058966733}. Best is trial 1 with value: 0.460040230896939.\u001b[0m\n",
            "\u001b[32m[I 2021-03-21 18:46:33,667]\u001b[0m Trial 3 finished with value: 0.4147710978796061 and parameters: {'objective': 'Logloss', 'colsample_bylevel': 0.03486267941965224, 'depth': 6, 'boosting_type': 'Plain', 'bootstrap_type': 'Bernoulli', 'subsample': 0.8402975433773842}. Best is trial 1 with value: 0.460040230896939.\u001b[0m\n",
            "\u001b[32m[I 2021-03-21 18:46:35,992]\u001b[0m Trial 4 finished with value: 0.47421401624482057 and parameters: {'objective': 'Logloss', 'colsample_bylevel': 0.06078150121055481, 'depth': 8, 'boosting_type': 'Plain', 'bootstrap_type': 'Bernoulli', 'subsample': 0.3750086556665708}. Best is trial 4 with value: 0.47421401624482057.\u001b[0m\n",
            "\u001b[32m[I 2021-03-21 18:46:38,177]\u001b[0m Trial 5 finished with value: 0.4469793221649975 and parameters: {'objective': 'Logloss', 'colsample_bylevel': 0.04161266074481594, 'depth': 11, 'boosting_type': 'Plain', 'bootstrap_type': 'Bayesian', 'bagging_temperature': 0.6561017301780137}. Best is trial 4 with value: 0.47421401624482057.\u001b[0m\n",
            "\u001b[32m[I 2021-03-21 18:46:40,256]\u001b[0m Trial 6 finished with value: 0.459535025414413 and parameters: {'objective': 'Logloss', 'colsample_bylevel': 0.06244454188548525, 'depth': 10, 'boosting_type': 'Plain', 'bootstrap_type': 'MVS'}. Best is trial 4 with value: 0.47421401624482057.\u001b[0m\n",
            "\u001b[32m[I 2021-03-21 18:46:41,893]\u001b[0m Trial 7 finished with value: 0.4611095309969502 and parameters: {'objective': 'Logloss', 'colsample_bylevel': 0.04751602046721832, 'depth': 8, 'boosting_type': 'Plain', 'bootstrap_type': 'MVS'}. Best is trial 4 with value: 0.47421401624482057.\u001b[0m\n",
            "\u001b[32m[I 2021-03-21 18:46:44,018]\u001b[0m Trial 8 finished with value: 0.40312433007929854 and parameters: {'objective': 'Logloss', 'colsample_bylevel': 0.04918129658051533, 'depth': 7, 'boosting_type': 'Ordered', 'bootstrap_type': 'Bayesian', 'bagging_temperature': 6.9075845110028755}. Best is trial 4 with value: 0.47421401624482057.\u001b[0m\n",
            "\u001b[32m[I 2021-03-21 18:46:45,881]\u001b[0m Trial 9 finished with value: 0.34757782579927365 and parameters: {'objective': 'Logloss', 'colsample_bylevel': 0.0320166395927986, 'depth': 7, 'boosting_type': 'Plain', 'bootstrap_type': 'Bayesian', 'bagging_temperature': 5.388195619665175}. Best is trial 4 with value: 0.47421401624482057.\u001b[0m\n"
          ],
          "name": "stderr"
        }
      ]
    },
    {
      "cell_type": "code",
      "metadata": {
        "id": "MAGjih_jZZkP",
        "colab": {
          "base_uri": "https://localhost:8080/"
        },
        "outputId": "938ba634-ac75-41cd-c6b2-3e9461cb2c47"
      },
      "source": [
        "# best trail result\n",
        "print(\"Number of finished trials: {}\".format(len(study.trials)))\n",
        "print(\"Best trial:\")\n",
        "trial = study.best_trial\n",
        "\n",
        "print(\"  Value: {}\".format(trial.value))\n",
        "print(\"  Params: \")\n",
        "for key, value in trial.params.items():\n",
        "    print(\"    {}: {}\".format(key, value))"
      ],
      "execution_count": null,
      "outputs": [
        {
          "output_type": "stream",
          "text": [
            "Number of finished trials: 10\n",
            "Best trial:\n",
            "  Value: 0.47421401624482057\n",
            "  Params: \n",
            "    objective: Logloss\n",
            "    colsample_bylevel: 0.06078150121055481\n",
            "    depth: 8\n",
            "    boosting_type: Plain\n",
            "    bootstrap_type: Bernoulli\n",
            "    subsample: 0.3750086556665708\n"
          ],
          "name": "stdout"
        }
      ]
    },
    {
      "cell_type": "code",
      "metadata": {
        "id": "6LDdv74H_JjC",
        "colab": {
          "base_uri": "https://localhost:8080/",
          "height": 542
        },
        "outputId": "69528216-30b8-497f-e13a-9169422cc8c1"
      },
      "source": [
        "optuna.visualization.plot_optimization_history(study)"
      ],
      "execution_count": null,
      "outputs": [
        {
          "output_type": "display_data",
          "data": {
            "text/html": [
              "<html>\n",
              "<head><meta charset=\"utf-8\" /></head>\n",
              "<body>\n",
              "    <div>\n",
              "            <script src=\"https://cdnjs.cloudflare.com/ajax/libs/mathjax/2.7.5/MathJax.js?config=TeX-AMS-MML_SVG\"></script><script type=\"text/javascript\">if (window.MathJax) {MathJax.Hub.Config({SVG: {font: \"STIX-Web\"}});}</script>\n",
              "                <script type=\"text/javascript\">window.PlotlyConfig = {MathJaxConfig: 'local'};</script>\n",
              "        <script src=\"https://cdn.plot.ly/plotly-latest.min.js\"></script>    \n",
              "            <div id=\"11dc85d1-f3e2-4ab5-aadd-049041c88e02\" class=\"plotly-graph-div\" style=\"height:525px; width:100%;\"></div>\n",
              "            <script type=\"text/javascript\">\n",
              "                \n",
              "                    window.PLOTLYENV=window.PLOTLYENV || {};\n",
              "                    \n",
              "                if (document.getElementById(\"11dc85d1-f3e2-4ab5-aadd-049041c88e02\")) {\n",
              "                    Plotly.newPlot(\n",
              "                        '11dc85d1-f3e2-4ab5-aadd-049041c88e02',\n",
              "                        [{\"mode\": \"markers\", \"name\": \"Objective Value\", \"type\": \"scatter\", \"x\": [0, 1, 2, 3, 4, 5, 6, 7, 8, 9], \"y\": [0.44007341210648065, 0.460040230896939, 0.34823645227594346, 0.4147710978796061, 0.47421401624482057, 0.4469793221649975, 0.459535025414413, 0.4611095309969502, 0.40312433007929854, 0.34757782579927365]}, {\"name\": \"Best Value\", \"type\": \"scatter\", \"x\": [0, 1, 2, 3, 4, 5, 6, 7, 8, 9], \"y\": [0.44007341210648065, 0.460040230896939, 0.460040230896939, 0.460040230896939, 0.47421401624482057, 0.47421401624482057, 0.47421401624482057, 0.47421401624482057, 0.47421401624482057, 0.47421401624482057]}],\n",
              "                        {\"template\": {\"data\": {\"bar\": [{\"error_x\": {\"color\": \"#2a3f5f\"}, \"error_y\": {\"color\": \"#2a3f5f\"}, \"marker\": {\"line\": {\"color\": \"#E5ECF6\", \"width\": 0.5}}, \"type\": \"bar\"}], \"barpolar\": [{\"marker\": {\"line\": {\"color\": \"#E5ECF6\", \"width\": 0.5}}, \"type\": \"barpolar\"}], \"carpet\": [{\"aaxis\": {\"endlinecolor\": \"#2a3f5f\", \"gridcolor\": \"white\", \"linecolor\": \"white\", \"minorgridcolor\": \"white\", \"startlinecolor\": \"#2a3f5f\"}, \"baxis\": {\"endlinecolor\": \"#2a3f5f\", \"gridcolor\": \"white\", \"linecolor\": \"white\", \"minorgridcolor\": \"white\", \"startlinecolor\": \"#2a3f5f\"}, \"type\": \"carpet\"}], \"choropleth\": [{\"colorbar\": {\"outlinewidth\": 0, \"ticks\": \"\"}, \"type\": \"choropleth\"}], \"contour\": [{\"colorbar\": {\"outlinewidth\": 0, \"ticks\": \"\"}, \"colorscale\": [[0.0, \"#0d0887\"], [0.1111111111111111, \"#46039f\"], [0.2222222222222222, \"#7201a8\"], [0.3333333333333333, \"#9c179e\"], [0.4444444444444444, \"#bd3786\"], [0.5555555555555556, \"#d8576b\"], [0.6666666666666666, \"#ed7953\"], [0.7777777777777778, \"#fb9f3a\"], [0.8888888888888888, \"#fdca26\"], [1.0, \"#f0f921\"]], \"type\": \"contour\"}], \"contourcarpet\": [{\"colorbar\": {\"outlinewidth\": 0, \"ticks\": \"\"}, \"type\": \"contourcarpet\"}], \"heatmap\": [{\"colorbar\": {\"outlinewidth\": 0, \"ticks\": \"\"}, \"colorscale\": [[0.0, \"#0d0887\"], [0.1111111111111111, \"#46039f\"], [0.2222222222222222, \"#7201a8\"], [0.3333333333333333, \"#9c179e\"], [0.4444444444444444, \"#bd3786\"], [0.5555555555555556, \"#d8576b\"], [0.6666666666666666, \"#ed7953\"], [0.7777777777777778, \"#fb9f3a\"], [0.8888888888888888, \"#fdca26\"], [1.0, \"#f0f921\"]], \"type\": \"heatmap\"}], \"heatmapgl\": [{\"colorbar\": {\"outlinewidth\": 0, \"ticks\": \"\"}, \"colorscale\": [[0.0, \"#0d0887\"], [0.1111111111111111, \"#46039f\"], [0.2222222222222222, \"#7201a8\"], [0.3333333333333333, \"#9c179e\"], [0.4444444444444444, \"#bd3786\"], [0.5555555555555556, \"#d8576b\"], [0.6666666666666666, \"#ed7953\"], [0.7777777777777778, \"#fb9f3a\"], [0.8888888888888888, \"#fdca26\"], [1.0, \"#f0f921\"]], \"type\": \"heatmapgl\"}], \"histogram\": [{\"marker\": {\"colorbar\": {\"outlinewidth\": 0, \"ticks\": \"\"}}, \"type\": \"histogram\"}], \"histogram2d\": [{\"colorbar\": {\"outlinewidth\": 0, \"ticks\": \"\"}, \"colorscale\": [[0.0, \"#0d0887\"], [0.1111111111111111, \"#46039f\"], [0.2222222222222222, \"#7201a8\"], [0.3333333333333333, \"#9c179e\"], [0.4444444444444444, \"#bd3786\"], [0.5555555555555556, \"#d8576b\"], [0.6666666666666666, \"#ed7953\"], [0.7777777777777778, \"#fb9f3a\"], [0.8888888888888888, \"#fdca26\"], [1.0, \"#f0f921\"]], \"type\": \"histogram2d\"}], \"histogram2dcontour\": [{\"colorbar\": {\"outlinewidth\": 0, \"ticks\": \"\"}, \"colorscale\": [[0.0, \"#0d0887\"], [0.1111111111111111, \"#46039f\"], [0.2222222222222222, \"#7201a8\"], [0.3333333333333333, \"#9c179e\"], [0.4444444444444444, \"#bd3786\"], [0.5555555555555556, \"#d8576b\"], [0.6666666666666666, \"#ed7953\"], [0.7777777777777778, \"#fb9f3a\"], [0.8888888888888888, \"#fdca26\"], [1.0, \"#f0f921\"]], \"type\": \"histogram2dcontour\"}], \"mesh3d\": [{\"colorbar\": {\"outlinewidth\": 0, \"ticks\": \"\"}, \"type\": \"mesh3d\"}], \"parcoords\": [{\"line\": {\"colorbar\": {\"outlinewidth\": 0, \"ticks\": \"\"}}, \"type\": \"parcoords\"}], \"pie\": [{\"automargin\": true, \"type\": \"pie\"}], \"scatter\": [{\"marker\": {\"colorbar\": {\"outlinewidth\": 0, \"ticks\": \"\"}}, \"type\": \"scatter\"}], \"scatter3d\": [{\"line\": {\"colorbar\": {\"outlinewidth\": 0, \"ticks\": \"\"}}, \"marker\": {\"colorbar\": {\"outlinewidth\": 0, \"ticks\": \"\"}}, \"type\": \"scatter3d\"}], \"scattercarpet\": [{\"marker\": {\"colorbar\": {\"outlinewidth\": 0, \"ticks\": \"\"}}, \"type\": \"scattercarpet\"}], \"scattergeo\": [{\"marker\": {\"colorbar\": {\"outlinewidth\": 0, \"ticks\": \"\"}}, \"type\": \"scattergeo\"}], \"scattergl\": [{\"marker\": {\"colorbar\": {\"outlinewidth\": 0, \"ticks\": \"\"}}, \"type\": \"scattergl\"}], \"scattermapbox\": [{\"marker\": {\"colorbar\": {\"outlinewidth\": 0, \"ticks\": \"\"}}, \"type\": \"scattermapbox\"}], \"scatterpolar\": [{\"marker\": {\"colorbar\": {\"outlinewidth\": 0, \"ticks\": \"\"}}, \"type\": \"scatterpolar\"}], \"scatterpolargl\": [{\"marker\": {\"colorbar\": {\"outlinewidth\": 0, \"ticks\": \"\"}}, \"type\": \"scatterpolargl\"}], \"scatterternary\": [{\"marker\": {\"colorbar\": {\"outlinewidth\": 0, \"ticks\": \"\"}}, \"type\": \"scatterternary\"}], \"surface\": [{\"colorbar\": {\"outlinewidth\": 0, \"ticks\": \"\"}, \"colorscale\": [[0.0, \"#0d0887\"], [0.1111111111111111, \"#46039f\"], [0.2222222222222222, \"#7201a8\"], [0.3333333333333333, \"#9c179e\"], [0.4444444444444444, \"#bd3786\"], [0.5555555555555556, \"#d8576b\"], [0.6666666666666666, \"#ed7953\"], [0.7777777777777778, \"#fb9f3a\"], [0.8888888888888888, \"#fdca26\"], [1.0, \"#f0f921\"]], \"type\": \"surface\"}], \"table\": [{\"cells\": {\"fill\": {\"color\": \"#EBF0F8\"}, \"line\": {\"color\": \"white\"}}, \"header\": {\"fill\": {\"color\": \"#C8D4E3\"}, \"line\": {\"color\": \"white\"}}, \"type\": \"table\"}]}, \"layout\": {\"annotationdefaults\": {\"arrowcolor\": \"#2a3f5f\", \"arrowhead\": 0, \"arrowwidth\": 1}, \"coloraxis\": {\"colorbar\": {\"outlinewidth\": 0, \"ticks\": \"\"}}, \"colorscale\": {\"diverging\": [[0, \"#8e0152\"], [0.1, \"#c51b7d\"], [0.2, \"#de77ae\"], [0.3, \"#f1b6da\"], [0.4, \"#fde0ef\"], [0.5, \"#f7f7f7\"], [0.6, \"#e6f5d0\"], [0.7, \"#b8e186\"], [0.8, \"#7fbc41\"], [0.9, \"#4d9221\"], [1, \"#276419\"]], \"sequential\": [[0.0, \"#0d0887\"], [0.1111111111111111, \"#46039f\"], [0.2222222222222222, \"#7201a8\"], [0.3333333333333333, \"#9c179e\"], [0.4444444444444444, \"#bd3786\"], [0.5555555555555556, \"#d8576b\"], [0.6666666666666666, \"#ed7953\"], [0.7777777777777778, \"#fb9f3a\"], [0.8888888888888888, \"#fdca26\"], [1.0, \"#f0f921\"]], \"sequentialminus\": [[0.0, \"#0d0887\"], [0.1111111111111111, \"#46039f\"], [0.2222222222222222, \"#7201a8\"], [0.3333333333333333, \"#9c179e\"], [0.4444444444444444, \"#bd3786\"], [0.5555555555555556, \"#d8576b\"], [0.6666666666666666, \"#ed7953\"], [0.7777777777777778, \"#fb9f3a\"], [0.8888888888888888, \"#fdca26\"], [1.0, \"#f0f921\"]]}, \"colorway\": [\"#636efa\", \"#EF553B\", \"#00cc96\", \"#ab63fa\", \"#FFA15A\", \"#19d3f3\", \"#FF6692\", \"#B6E880\", \"#FF97FF\", \"#FECB52\"], \"font\": {\"color\": \"#2a3f5f\"}, \"geo\": {\"bgcolor\": \"white\", \"lakecolor\": \"white\", \"landcolor\": \"#E5ECF6\", \"showlakes\": true, \"showland\": true, \"subunitcolor\": \"white\"}, \"hoverlabel\": {\"align\": \"left\"}, \"hovermode\": \"closest\", \"mapbox\": {\"style\": \"light\"}, \"paper_bgcolor\": \"white\", \"plot_bgcolor\": \"#E5ECF6\", \"polar\": {\"angularaxis\": {\"gridcolor\": \"white\", \"linecolor\": \"white\", \"ticks\": \"\"}, \"bgcolor\": \"#E5ECF6\", \"radialaxis\": {\"gridcolor\": \"white\", \"linecolor\": \"white\", \"ticks\": \"\"}}, \"scene\": {\"xaxis\": {\"backgroundcolor\": \"#E5ECF6\", \"gridcolor\": \"white\", \"gridwidth\": 2, \"linecolor\": \"white\", \"showbackground\": true, \"ticks\": \"\", \"zerolinecolor\": \"white\"}, \"yaxis\": {\"backgroundcolor\": \"#E5ECF6\", \"gridcolor\": \"white\", \"gridwidth\": 2, \"linecolor\": \"white\", \"showbackground\": true, \"ticks\": \"\", \"zerolinecolor\": \"white\"}, \"zaxis\": {\"backgroundcolor\": \"#E5ECF6\", \"gridcolor\": \"white\", \"gridwidth\": 2, \"linecolor\": \"white\", \"showbackground\": true, \"ticks\": \"\", \"zerolinecolor\": \"white\"}}, \"shapedefaults\": {\"line\": {\"color\": \"#2a3f5f\"}}, \"ternary\": {\"aaxis\": {\"gridcolor\": \"white\", \"linecolor\": \"white\", \"ticks\": \"\"}, \"baxis\": {\"gridcolor\": \"white\", \"linecolor\": \"white\", \"ticks\": \"\"}, \"bgcolor\": \"#E5ECF6\", \"caxis\": {\"gridcolor\": \"white\", \"linecolor\": \"white\", \"ticks\": \"\"}}, \"title\": {\"x\": 0.05}, \"xaxis\": {\"automargin\": true, \"gridcolor\": \"white\", \"linecolor\": \"white\", \"ticks\": \"\", \"title\": {\"standoff\": 15}, \"zerolinecolor\": \"white\", \"zerolinewidth\": 2}, \"yaxis\": {\"automargin\": true, \"gridcolor\": \"white\", \"linecolor\": \"white\", \"ticks\": \"\", \"title\": {\"standoff\": 15}, \"zerolinecolor\": \"white\", \"zerolinewidth\": 2}}}, \"title\": {\"text\": \"Optimization History Plot\"}, \"xaxis\": {\"title\": {\"text\": \"#Trials\"}}, \"yaxis\": {\"title\": {\"text\": \"Objective Value\"}}},\n",
              "                        {\"responsive\": true}\n",
              "                    ).then(function(){\n",
              "                            \n",
              "var gd = document.getElementById('11dc85d1-f3e2-4ab5-aadd-049041c88e02');\n",
              "var x = new MutationObserver(function (mutations, observer) {{\n",
              "        var display = window.getComputedStyle(gd).display;\n",
              "        if (!display || display === 'none') {{\n",
              "            console.log([gd, 'removed!']);\n",
              "            Plotly.purge(gd);\n",
              "            observer.disconnect();\n",
              "        }}\n",
              "}});\n",
              "\n",
              "// Listen for the removal of the full notebook cells\n",
              "var notebookContainer = gd.closest('#notebook-container');\n",
              "if (notebookContainer) {{\n",
              "    x.observe(notebookContainer, {childList: true});\n",
              "}}\n",
              "\n",
              "// Listen for the clearing of the current output cell\n",
              "var outputEl = gd.closest('.output');\n",
              "if (outputEl) {{\n",
              "    x.observe(outputEl, {childList: true});\n",
              "}}\n",
              "\n",
              "                        })\n",
              "                };\n",
              "                \n",
              "            </script>\n",
              "        </div>\n",
              "</body>\n",
              "</html>"
            ]
          },
          "metadata": {
            "tags": []
          }
        }
      ]
    },
    {
      "cell_type": "code",
      "metadata": {
        "id": "JIuOqj8J_g7o",
        "colab": {
          "base_uri": "https://localhost:8080/",
          "height": 562
        },
        "outputId": "b817fa85-c733-446a-e899-d639cabc0ce4"
      },
      "source": [
        "optuna.visualization.plot_slice(study)"
      ],
      "execution_count": null,
      "outputs": [
        {
          "output_type": "display_data",
          "data": {
            "text/html": [
              "<html>\n",
              "<head><meta charset=\"utf-8\" /></head>\n",
              "<body>\n",
              "    <div>\n",
              "            <script src=\"https://cdnjs.cloudflare.com/ajax/libs/mathjax/2.7.5/MathJax.js?config=TeX-AMS-MML_SVG\"></script><script type=\"text/javascript\">if (window.MathJax) {MathJax.Hub.Config({SVG: {font: \"STIX-Web\"}});}</script>\n",
              "                <script type=\"text/javascript\">window.PlotlyConfig = {MathJaxConfig: 'local'};</script>\n",
              "        <script src=\"https://cdn.plot.ly/plotly-latest.min.js\"></script>    \n",
              "            <div id=\"d92e8d27-5e0c-4cd0-ad1e-8e96d09b90b3\" class=\"plotly-graph-div\" style=\"height:525px; width:2100px;\"></div>\n",
              "            <script type=\"text/javascript\">\n",
              "                \n",
              "                    window.PLOTLYENV=window.PLOTLYENV || {};\n",
              "                    \n",
              "                if (document.getElementById(\"d92e8d27-5e0c-4cd0-ad1e-8e96d09b90b3\")) {\n",
              "                    Plotly.newPlot(\n",
              "                        'd92e8d27-5e0c-4cd0-ad1e-8e96d09b90b3',\n",
              "                        [{\"marker\": {\"color\": [5, 8, 9], \"colorbar\": {\"title\": {\"text\": \"#Trials\"}, \"x\": 1.0, \"xpad\": 40}, \"colorscale\": [[0.0, \"rgb(247,251,255)\"], [0.125, \"rgb(222,235,247)\"], [0.25, \"rgb(198,219,239)\"], [0.375, \"rgb(158,202,225)\"], [0.5, \"rgb(107,174,214)\"], [0.625, \"rgb(66,146,198)\"], [0.75, \"rgb(33,113,181)\"], [0.875, \"rgb(8,81,156)\"], [1.0, \"rgb(8,48,107)\"]], \"line\": {\"color\": \"Grey\", \"width\": 0.5}, \"showscale\": true}, \"mode\": \"markers\", \"showlegend\": false, \"type\": \"scatter\", \"x\": [0.6561017301780137, 6.9075845110028755, 5.388195619665175], \"xaxis\": \"x\", \"y\": [0.4469793221649975, 0.40312433007929854, 0.34757782579927365], \"yaxis\": \"y\"}, {\"marker\": {\"color\": [0, 1, 2, 3, 4, 5, 6, 7, 8, 9], \"colorbar\": {\"title\": {\"text\": \"#Trials\"}, \"x\": 1.0, \"xpad\": 40}, \"colorscale\": [[0.0, \"rgb(247,251,255)\"], [0.125, \"rgb(222,235,247)\"], [0.25, \"rgb(198,219,239)\"], [0.375, \"rgb(158,202,225)\"], [0.5, \"rgb(107,174,214)\"], [0.625, \"rgb(66,146,198)\"], [0.75, \"rgb(33,113,181)\"], [0.875, \"rgb(8,81,156)\"], [1.0, \"rgb(8,48,107)\"]], \"line\": {\"color\": \"Grey\", \"width\": 0.5}, \"showscale\": false}, \"mode\": \"markers\", \"showlegend\": false, \"type\": \"scatter\", \"x\": [\"Ordered\", \"Ordered\", \"Ordered\", \"Plain\", \"Plain\", \"Plain\", \"Plain\", \"Plain\", \"Ordered\", \"Plain\"], \"xaxis\": \"x2\", \"y\": [0.44007341210648065, 0.460040230896939, 0.34823645227594346, 0.4147710978796061, 0.47421401624482057, 0.4469793221649975, 0.459535025414413, 0.4611095309969502, 0.40312433007929854, 0.34757782579927365], \"yaxis\": \"y2\"}, {\"marker\": {\"color\": [0, 1, 2, 3, 4, 5, 6, 7, 8, 9], \"colorbar\": {\"title\": {\"text\": \"#Trials\"}, \"x\": 1.0, \"xpad\": 40}, \"colorscale\": [[0.0, \"rgb(247,251,255)\"], [0.125, \"rgb(222,235,247)\"], [0.25, \"rgb(198,219,239)\"], [0.375, \"rgb(158,202,225)\"], [0.5, \"rgb(107,174,214)\"], [0.625, \"rgb(66,146,198)\"], [0.75, \"rgb(33,113,181)\"], [0.875, \"rgb(8,81,156)\"], [1.0, \"rgb(8,48,107)\"]], \"line\": {\"color\": \"Grey\", \"width\": 0.5}, \"showscale\": false}, \"mode\": \"markers\", \"showlegend\": false, \"type\": \"scatter\", \"x\": [\"MVS\", \"MVS\", \"Bernoulli\", \"Bernoulli\", \"Bernoulli\", \"Bayesian\", \"MVS\", \"MVS\", \"Bayesian\", \"Bayesian\"], \"xaxis\": \"x3\", \"y\": [0.44007341210648065, 0.460040230896939, 0.34823645227594346, 0.4147710978796061, 0.47421401624482057, 0.4469793221649975, 0.459535025414413, 0.4611095309969502, 0.40312433007929854, 0.34757782579927365], \"yaxis\": \"y3\"}, {\"marker\": {\"color\": [0, 1, 2, 3, 4, 5, 6, 7, 8, 9], \"colorbar\": {\"title\": {\"text\": \"#Trials\"}, \"x\": 1.0, \"xpad\": 40}, \"colorscale\": [[0.0, \"rgb(247,251,255)\"], [0.125, \"rgb(222,235,247)\"], [0.25, \"rgb(198,219,239)\"], [0.375, \"rgb(158,202,225)\"], [0.5, \"rgb(107,174,214)\"], [0.625, \"rgb(66,146,198)\"], [0.75, \"rgb(33,113,181)\"], [0.875, \"rgb(8,81,156)\"], [1.0, \"rgb(8,48,107)\"]], \"line\": {\"color\": \"Grey\", \"width\": 0.5}, \"showscale\": false}, \"mode\": \"markers\", \"showlegend\": false, \"type\": \"scatter\", \"x\": [0.033148082426560366, 0.09944866409719146, 0.015933999120887565, 0.03486267941965224, 0.06078150121055481, 0.04161266074481594, 0.06244454188548525, 0.04751602046721832, 0.04918129658051533, 0.0320166395927986], \"xaxis\": \"x4\", \"y\": [0.44007341210648065, 0.460040230896939, 0.34823645227594346, 0.4147710978796061, 0.47421401624482057, 0.4469793221649975, 0.459535025414413, 0.4611095309969502, 0.40312433007929854, 0.34757782579927365], \"yaxis\": \"y4\"}, {\"marker\": {\"color\": [0, 1, 2, 3, 4, 5, 6, 7, 8, 9], \"colorbar\": {\"title\": {\"text\": \"#Trials\"}, \"x\": 1.0, \"xpad\": 40}, \"colorscale\": [[0.0, \"rgb(247,251,255)\"], [0.125, \"rgb(222,235,247)\"], [0.25, \"rgb(198,219,239)\"], [0.375, \"rgb(158,202,225)\"], [0.5, \"rgb(107,174,214)\"], [0.625, \"rgb(66,146,198)\"], [0.75, \"rgb(33,113,181)\"], [0.875, \"rgb(8,81,156)\"], [1.0, \"rgb(8,48,107)\"]], \"line\": {\"color\": \"Grey\", \"width\": 0.5}, \"showscale\": false}, \"mode\": \"markers\", \"showlegend\": false, \"type\": \"scatter\", \"x\": [2, 1, 3, 6, 8, 11, 10, 8, 7, 7], \"xaxis\": \"x5\", \"y\": [0.44007341210648065, 0.460040230896939, 0.34823645227594346, 0.4147710978796061, 0.47421401624482057, 0.4469793221649975, 0.459535025414413, 0.4611095309969502, 0.40312433007929854, 0.34757782579927365], \"yaxis\": \"y5\"}, {\"marker\": {\"color\": [0, 1, 2, 3, 4, 5, 6, 7, 8, 9], \"colorbar\": {\"title\": {\"text\": \"#Trials\"}, \"x\": 1.0, \"xpad\": 40}, \"colorscale\": [[0.0, \"rgb(247,251,255)\"], [0.125, \"rgb(222,235,247)\"], [0.25, \"rgb(198,219,239)\"], [0.375, \"rgb(158,202,225)\"], [0.5, \"rgb(107,174,214)\"], [0.625, \"rgb(66,146,198)\"], [0.75, \"rgb(33,113,181)\"], [0.875, \"rgb(8,81,156)\"], [1.0, \"rgb(8,48,107)\"]], \"line\": {\"color\": \"Grey\", \"width\": 0.5}, \"showscale\": false}, \"mode\": \"markers\", \"showlegend\": false, \"type\": \"scatter\", \"x\": [\"Logloss\", \"Logloss\", \"Logloss\", \"Logloss\", \"Logloss\", \"Logloss\", \"Logloss\", \"Logloss\", \"Logloss\", \"Logloss\"], \"xaxis\": \"x6\", \"y\": [0.44007341210648065, 0.460040230896939, 0.34823645227594346, 0.4147710978796061, 0.47421401624482057, 0.4469793221649975, 0.459535025414413, 0.4611095309969502, 0.40312433007929854, 0.34757782579927365], \"yaxis\": \"y6\"}, {\"marker\": {\"color\": [2, 3, 4], \"colorbar\": {\"title\": {\"text\": \"#Trials\"}, \"x\": 1.0, \"xpad\": 40}, \"colorscale\": [[0.0, \"rgb(247,251,255)\"], [0.125, \"rgb(222,235,247)\"], [0.25, \"rgb(198,219,239)\"], [0.375, \"rgb(158,202,225)\"], [0.5, \"rgb(107,174,214)\"], [0.625, \"rgb(66,146,198)\"], [0.75, \"rgb(33,113,181)\"], [0.875, \"rgb(8,81,156)\"], [1.0, \"rgb(8,48,107)\"]], \"line\": {\"color\": \"Grey\", \"width\": 0.5}, \"showscale\": false}, \"mode\": \"markers\", \"showlegend\": false, \"type\": \"scatter\", \"x\": [0.30604584058966733, 0.8402975433773842, 0.3750086556665708], \"xaxis\": \"x7\", \"y\": [0.34823645227594346, 0.4147710978796061, 0.47421401624482057], \"yaxis\": \"y7\"}],\n",
              "                        {\"template\": {\"data\": {\"bar\": [{\"error_x\": {\"color\": \"#2a3f5f\"}, \"error_y\": {\"color\": \"#2a3f5f\"}, \"marker\": {\"line\": {\"color\": \"#E5ECF6\", \"width\": 0.5}}, \"type\": \"bar\"}], \"barpolar\": [{\"marker\": {\"line\": {\"color\": \"#E5ECF6\", \"width\": 0.5}}, \"type\": \"barpolar\"}], \"carpet\": [{\"aaxis\": {\"endlinecolor\": \"#2a3f5f\", \"gridcolor\": \"white\", \"linecolor\": \"white\", \"minorgridcolor\": \"white\", \"startlinecolor\": \"#2a3f5f\"}, \"baxis\": {\"endlinecolor\": \"#2a3f5f\", \"gridcolor\": \"white\", \"linecolor\": \"white\", \"minorgridcolor\": \"white\", \"startlinecolor\": \"#2a3f5f\"}, \"type\": \"carpet\"}], \"choropleth\": [{\"colorbar\": {\"outlinewidth\": 0, \"ticks\": \"\"}, \"type\": \"choropleth\"}], \"contour\": [{\"colorbar\": {\"outlinewidth\": 0, \"ticks\": \"\"}, \"colorscale\": [[0.0, \"#0d0887\"], [0.1111111111111111, \"#46039f\"], [0.2222222222222222, \"#7201a8\"], [0.3333333333333333, \"#9c179e\"], [0.4444444444444444, \"#bd3786\"], [0.5555555555555556, \"#d8576b\"], [0.6666666666666666, \"#ed7953\"], [0.7777777777777778, \"#fb9f3a\"], [0.8888888888888888, \"#fdca26\"], [1.0, \"#f0f921\"]], \"type\": \"contour\"}], \"contourcarpet\": [{\"colorbar\": {\"outlinewidth\": 0, \"ticks\": \"\"}, \"type\": \"contourcarpet\"}], \"heatmap\": [{\"colorbar\": {\"outlinewidth\": 0, \"ticks\": \"\"}, \"colorscale\": [[0.0, \"#0d0887\"], [0.1111111111111111, \"#46039f\"], [0.2222222222222222, \"#7201a8\"], [0.3333333333333333, \"#9c179e\"], [0.4444444444444444, \"#bd3786\"], [0.5555555555555556, \"#d8576b\"], [0.6666666666666666, \"#ed7953\"], [0.7777777777777778, \"#fb9f3a\"], [0.8888888888888888, \"#fdca26\"], [1.0, \"#f0f921\"]], \"type\": \"heatmap\"}], \"heatmapgl\": [{\"colorbar\": {\"outlinewidth\": 0, \"ticks\": \"\"}, \"colorscale\": [[0.0, \"#0d0887\"], [0.1111111111111111, \"#46039f\"], [0.2222222222222222, \"#7201a8\"], [0.3333333333333333, \"#9c179e\"], [0.4444444444444444, \"#bd3786\"], [0.5555555555555556, \"#d8576b\"], [0.6666666666666666, \"#ed7953\"], [0.7777777777777778, \"#fb9f3a\"], [0.8888888888888888, \"#fdca26\"], [1.0, \"#f0f921\"]], \"type\": \"heatmapgl\"}], \"histogram\": [{\"marker\": {\"colorbar\": {\"outlinewidth\": 0, \"ticks\": \"\"}}, \"type\": \"histogram\"}], \"histogram2d\": [{\"colorbar\": {\"outlinewidth\": 0, \"ticks\": \"\"}, \"colorscale\": [[0.0, \"#0d0887\"], [0.1111111111111111, \"#46039f\"], [0.2222222222222222, \"#7201a8\"], [0.3333333333333333, \"#9c179e\"], [0.4444444444444444, \"#bd3786\"], [0.5555555555555556, \"#d8576b\"], [0.6666666666666666, \"#ed7953\"], [0.7777777777777778, \"#fb9f3a\"], [0.8888888888888888, \"#fdca26\"], [1.0, \"#f0f921\"]], \"type\": \"histogram2d\"}], \"histogram2dcontour\": [{\"colorbar\": {\"outlinewidth\": 0, \"ticks\": \"\"}, \"colorscale\": [[0.0, \"#0d0887\"], [0.1111111111111111, \"#46039f\"], [0.2222222222222222, \"#7201a8\"], [0.3333333333333333, \"#9c179e\"], [0.4444444444444444, \"#bd3786\"], [0.5555555555555556, \"#d8576b\"], [0.6666666666666666, \"#ed7953\"], [0.7777777777777778, \"#fb9f3a\"], [0.8888888888888888, \"#fdca26\"], [1.0, \"#f0f921\"]], \"type\": \"histogram2dcontour\"}], \"mesh3d\": [{\"colorbar\": {\"outlinewidth\": 0, \"ticks\": \"\"}, \"type\": \"mesh3d\"}], \"parcoords\": [{\"line\": {\"colorbar\": {\"outlinewidth\": 0, \"ticks\": \"\"}}, \"type\": \"parcoords\"}], \"pie\": [{\"automargin\": true, \"type\": \"pie\"}], \"scatter\": [{\"marker\": {\"colorbar\": {\"outlinewidth\": 0, \"ticks\": \"\"}}, \"type\": \"scatter\"}], \"scatter3d\": [{\"line\": {\"colorbar\": {\"outlinewidth\": 0, \"ticks\": \"\"}}, \"marker\": {\"colorbar\": {\"outlinewidth\": 0, \"ticks\": \"\"}}, \"type\": \"scatter3d\"}], \"scattercarpet\": [{\"marker\": {\"colorbar\": {\"outlinewidth\": 0, \"ticks\": \"\"}}, \"type\": \"scattercarpet\"}], \"scattergeo\": [{\"marker\": {\"colorbar\": {\"outlinewidth\": 0, \"ticks\": \"\"}}, \"type\": \"scattergeo\"}], \"scattergl\": [{\"marker\": {\"colorbar\": {\"outlinewidth\": 0, \"ticks\": \"\"}}, \"type\": \"scattergl\"}], \"scattermapbox\": [{\"marker\": {\"colorbar\": {\"outlinewidth\": 0, \"ticks\": \"\"}}, \"type\": \"scattermapbox\"}], \"scatterpolar\": [{\"marker\": {\"colorbar\": {\"outlinewidth\": 0, \"ticks\": \"\"}}, \"type\": \"scatterpolar\"}], \"scatterpolargl\": [{\"marker\": {\"colorbar\": {\"outlinewidth\": 0, \"ticks\": \"\"}}, \"type\": \"scatterpolargl\"}], \"scatterternary\": [{\"marker\": {\"colorbar\": {\"outlinewidth\": 0, \"ticks\": \"\"}}, \"type\": \"scatterternary\"}], \"surface\": [{\"colorbar\": {\"outlinewidth\": 0, \"ticks\": \"\"}, \"colorscale\": [[0.0, \"#0d0887\"], [0.1111111111111111, \"#46039f\"], [0.2222222222222222, \"#7201a8\"], [0.3333333333333333, \"#9c179e\"], [0.4444444444444444, \"#bd3786\"], [0.5555555555555556, \"#d8576b\"], [0.6666666666666666, \"#ed7953\"], [0.7777777777777778, \"#fb9f3a\"], [0.8888888888888888, \"#fdca26\"], [1.0, \"#f0f921\"]], \"type\": \"surface\"}], \"table\": [{\"cells\": {\"fill\": {\"color\": \"#EBF0F8\"}, \"line\": {\"color\": \"white\"}}, \"header\": {\"fill\": {\"color\": \"#C8D4E3\"}, \"line\": {\"color\": \"white\"}}, \"type\": \"table\"}]}, \"layout\": {\"annotationdefaults\": {\"arrowcolor\": \"#2a3f5f\", \"arrowhead\": 0, \"arrowwidth\": 1}, \"coloraxis\": {\"colorbar\": {\"outlinewidth\": 0, \"ticks\": \"\"}}, \"colorscale\": {\"diverging\": [[0, \"#8e0152\"], [0.1, \"#c51b7d\"], [0.2, \"#de77ae\"], [0.3, \"#f1b6da\"], [0.4, \"#fde0ef\"], [0.5, \"#f7f7f7\"], [0.6, \"#e6f5d0\"], [0.7, \"#b8e186\"], [0.8, \"#7fbc41\"], [0.9, \"#4d9221\"], [1, \"#276419\"]], \"sequential\": [[0.0, \"#0d0887\"], [0.1111111111111111, \"#46039f\"], [0.2222222222222222, \"#7201a8\"], [0.3333333333333333, \"#9c179e\"], [0.4444444444444444, \"#bd3786\"], [0.5555555555555556, \"#d8576b\"], [0.6666666666666666, \"#ed7953\"], [0.7777777777777778, \"#fb9f3a\"], [0.8888888888888888, \"#fdca26\"], [1.0, \"#f0f921\"]], \"sequentialminus\": [[0.0, \"#0d0887\"], [0.1111111111111111, \"#46039f\"], [0.2222222222222222, \"#7201a8\"], [0.3333333333333333, \"#9c179e\"], [0.4444444444444444, \"#bd3786\"], [0.5555555555555556, \"#d8576b\"], [0.6666666666666666, \"#ed7953\"], [0.7777777777777778, \"#fb9f3a\"], [0.8888888888888888, \"#fdca26\"], [1.0, \"#f0f921\"]]}, \"colorway\": [\"#636efa\", \"#EF553B\", \"#00cc96\", \"#ab63fa\", \"#FFA15A\", \"#19d3f3\", \"#FF6692\", \"#B6E880\", \"#FF97FF\", \"#FECB52\"], \"font\": {\"color\": \"#2a3f5f\"}, \"geo\": {\"bgcolor\": \"white\", \"lakecolor\": \"white\", \"landcolor\": \"#E5ECF6\", \"showlakes\": true, \"showland\": true, \"subunitcolor\": \"white\"}, \"hoverlabel\": {\"align\": \"left\"}, \"hovermode\": \"closest\", \"mapbox\": {\"style\": \"light\"}, \"paper_bgcolor\": \"white\", \"plot_bgcolor\": \"#E5ECF6\", \"polar\": {\"angularaxis\": {\"gridcolor\": \"white\", \"linecolor\": \"white\", \"ticks\": \"\"}, \"bgcolor\": \"#E5ECF6\", \"radialaxis\": {\"gridcolor\": \"white\", \"linecolor\": \"white\", \"ticks\": \"\"}}, \"scene\": {\"xaxis\": {\"backgroundcolor\": \"#E5ECF6\", \"gridcolor\": \"white\", \"gridwidth\": 2, \"linecolor\": \"white\", \"showbackground\": true, \"ticks\": \"\", \"zerolinecolor\": \"white\"}, \"yaxis\": {\"backgroundcolor\": \"#E5ECF6\", \"gridcolor\": \"white\", \"gridwidth\": 2, \"linecolor\": \"white\", \"showbackground\": true, \"ticks\": \"\", \"zerolinecolor\": \"white\"}, \"zaxis\": {\"backgroundcolor\": \"#E5ECF6\", \"gridcolor\": \"white\", \"gridwidth\": 2, \"linecolor\": \"white\", \"showbackground\": true, \"ticks\": \"\", \"zerolinecolor\": \"white\"}}, \"shapedefaults\": {\"line\": {\"color\": \"#2a3f5f\"}}, \"ternary\": {\"aaxis\": {\"gridcolor\": \"white\", \"linecolor\": \"white\", \"ticks\": \"\"}, \"baxis\": {\"gridcolor\": \"white\", \"linecolor\": \"white\", \"ticks\": \"\"}, \"bgcolor\": \"#E5ECF6\", \"caxis\": {\"gridcolor\": \"white\", \"linecolor\": \"white\", \"ticks\": \"\"}}, \"title\": {\"x\": 0.05}, \"xaxis\": {\"automargin\": true, \"gridcolor\": \"white\", \"linecolor\": \"white\", \"ticks\": \"\", \"title\": {\"standoff\": 15}, \"zerolinecolor\": \"white\", \"zerolinewidth\": 2}, \"yaxis\": {\"automargin\": true, \"gridcolor\": \"white\", \"linecolor\": \"white\", \"ticks\": \"\", \"title\": {\"standoff\": 15}, \"zerolinecolor\": \"white\", \"zerolinewidth\": 2}}}, \"title\": {\"text\": \"Slice Plot\"}, \"width\": 2100, \"xaxis\": {\"anchor\": \"y\", \"domain\": [0.0, 0.1183673469387755], \"title\": {\"text\": \"bagging_temperature\"}}, \"xaxis2\": {\"anchor\": \"y2\", \"domain\": [0.14693877551020407, 0.26530612244897955], \"title\": {\"text\": \"boosting_type\"}}, \"xaxis3\": {\"anchor\": \"y3\", \"domain\": [0.29387755102040813, 0.4122448979591836], \"title\": {\"text\": \"bootstrap_type\"}}, \"xaxis4\": {\"anchor\": \"y4\", \"domain\": [0.4408163265306122, 0.5591836734693877], \"title\": {\"text\": \"colsample_bylevel\"}}, \"xaxis5\": {\"anchor\": \"y5\", \"domain\": [0.5877551020408163, 0.7061224489795918], \"title\": {\"text\": \"depth\"}}, \"xaxis6\": {\"anchor\": \"y6\", \"domain\": [0.7346938775510204, 0.8530612244897959], \"title\": {\"text\": \"objective\"}}, \"xaxis7\": {\"anchor\": \"y7\", \"domain\": [0.8816326530612244, 0.9999999999999999], \"title\": {\"text\": \"subsample\"}}, \"yaxis\": {\"anchor\": \"x\", \"domain\": [0.0, 1.0], \"title\": {\"text\": \"Objective Value\"}}, \"yaxis2\": {\"anchor\": \"x2\", \"domain\": [0.0, 1.0], \"matches\": \"y\", \"showticklabels\": false}, \"yaxis3\": {\"anchor\": \"x3\", \"domain\": [0.0, 1.0], \"matches\": \"y\", \"showticklabels\": false}, \"yaxis4\": {\"anchor\": \"x4\", \"domain\": [0.0, 1.0], \"matches\": \"y\", \"showticklabels\": false}, \"yaxis5\": {\"anchor\": \"x5\", \"domain\": [0.0, 1.0], \"matches\": \"y\", \"showticklabels\": false}, \"yaxis6\": {\"anchor\": \"x6\", \"domain\": [0.0, 1.0], \"matches\": \"y\", \"showticklabels\": false}, \"yaxis7\": {\"anchor\": \"x7\", \"domain\": [0.0, 1.0], \"matches\": \"y\", \"showticklabels\": false}},\n",
              "                        {\"responsive\": true}\n",
              "                    ).then(function(){\n",
              "                            \n",
              "var gd = document.getElementById('d92e8d27-5e0c-4cd0-ad1e-8e96d09b90b3');\n",
              "var x = new MutationObserver(function (mutations, observer) {{\n",
              "        var display = window.getComputedStyle(gd).display;\n",
              "        if (!display || display === 'none') {{\n",
              "            console.log([gd, 'removed!']);\n",
              "            Plotly.purge(gd);\n",
              "            observer.disconnect();\n",
              "        }}\n",
              "}});\n",
              "\n",
              "// Listen for the removal of the full notebook cells\n",
              "var notebookContainer = gd.closest('#notebook-container');\n",
              "if (notebookContainer) {{\n",
              "    x.observe(notebookContainer, {childList: true});\n",
              "}}\n",
              "\n",
              "// Listen for the clearing of the current output cell\n",
              "var outputEl = gd.closest('.output');\n",
              "if (outputEl) {{\n",
              "    x.observe(outputEl, {childList: true});\n",
              "}}\n",
              "\n",
              "                        })\n",
              "                };\n",
              "                \n",
              "            </script>\n",
              "        </div>\n",
              "</body>\n",
              "</html>"
            ]
          },
          "metadata": {
            "tags": []
          }
        }
      ]
    },
    {
      "cell_type": "markdown",
      "metadata": {
        "id": "Gxz0XUHEiniB"
      },
      "source": [
        "***\n",
        "# Train with best Hyperparameters"
      ]
    },
    {
      "cell_type": "code",
      "metadata": {
        "id": "2tGpvlMpiZnt"
      },
      "source": [
        "# concatenate train and validation sets for training\n",
        "X_trainval = pd.concat([X_train, X_val], axis=0, ignore_index=False, sort=False)\n",
        "y_trainval = pd.concat([y_train, y_val], axis=0, ignore_index=False, sort=False)"
      ],
      "execution_count": null,
      "outputs": []
    },
    {
      "cell_type": "code",
      "metadata": {
        "colab": {
          "base_uri": "https://localhost:8080/"
        },
        "id": "2yurfCc1r9ol",
        "outputId": "b367bc59-28e4-4e3f-e96d-0d66dd5a4601"
      },
      "source": [
        "# size of new training X and y\n",
        "print('Shape of X_train:    ', X_train.shape)\n",
        "print('Shape of X_val:      ', X_val.shape)\n",
        "print('Shape of X_trainval: ', X_trainval.shape)\n",
        "\n",
        "print('------------------------------')\n",
        "\n",
        "print('Shape of y_train:    ', y_train.shape)\n",
        "print('Shape of y_val:      ', y_val.shape)\n",
        "print('Shape of y_trainval: ', y_trainval.shape)"
      ],
      "execution_count": null,
      "outputs": [
        {
          "output_type": "stream",
          "text": [
            "Shape of X_train:     (14911, 17)\n",
            "Shape of X_val:       (4971, 17)\n",
            "Shape of X_trainval:  (19882, 17)\n",
            "------------------------------\n",
            "Shape of y_train:     (14911,)\n",
            "Shape of y_val:       (4971,)\n",
            "Shape of y_trainval:  (19882,)\n"
          ],
          "name": "stdout"
        }
      ]
    },
    {
      "cell_type": "code",
      "metadata": {
        "id": "nezph5O81a7m"
      },
      "source": [
        "# define train and test sets\n",
        "train_dataset = Pool(data = X_trainval, \n",
        "                     label = y_trainval,\n",
        "                     cat_features = cat_features)\n",
        "\n",
        "test_dataset = Pool(data = X_test, \n",
        "                    label = y_test,\n",
        "                    cat_features = cat_features)"
      ],
      "execution_count": null,
      "outputs": []
    },
    {
      "cell_type": "code",
      "metadata": {
        "id": "laPSFOWfxklj"
      },
      "source": [
        "# define catboost classifier model\n",
        "model = CatBoostClassifier(\n",
        "    iterations = 100, \n",
        "    class_weights = [0.06, 0.94],\n",
        "    objective = 'Logloss',\n",
        "    colsample_bylevel = 0.1,\n",
        "    depth = 7,\n",
        "    boosting_type = 'Plain',\n",
        "    bootstrap_type = 'MVS',\n",
        "    early_stopping_rounds = 10)"
      ],
      "execution_count": null,
      "outputs": []
    },
    {
      "cell_type": "code",
      "metadata": {
        "colab": {
          "base_uri": "https://localhost:8080/"
        },
        "id": "vNYFVSBXxkfh",
        "outputId": "932af61f-793b-4e43-b296-1d10026b4611"
      },
      "source": [
        "# train on model\n",
        "model.fit(train_dataset)"
      ],
      "execution_count": null,
      "outputs": [
        {
          "output_type": "stream",
          "text": [
            "Learning rate set to 0.305054\n",
            "0:\tlearn: 0.6440118\ttotal: 8.32ms\tremaining: 824ms\n",
            "1:\tlearn: 0.6251399\ttotal: 12.7ms\tremaining: 622ms\n",
            "2:\tlearn: 0.5959564\ttotal: 17ms\tremaining: 549ms\n",
            "3:\tlearn: 0.5113620\ttotal: 28.1ms\tremaining: 674ms\n",
            "4:\tlearn: 0.4818290\ttotal: 33.4ms\tremaining: 634ms\n",
            "5:\tlearn: 0.4715906\ttotal: 39.2ms\tremaining: 614ms\n",
            "6:\tlearn: 0.4479101\ttotal: 48.6ms\tremaining: 646ms\n",
            "7:\tlearn: 0.4354277\ttotal: 59.1ms\tremaining: 679ms\n",
            "8:\tlearn: 0.4168347\ttotal: 66.2ms\tremaining: 669ms\n",
            "9:\tlearn: 0.4015639\ttotal: 71.2ms\tremaining: 641ms\n",
            "10:\tlearn: 0.3955058\ttotal: 75.9ms\tremaining: 614ms\n",
            "11:\tlearn: 0.3868962\ttotal: 82.9ms\tremaining: 608ms\n",
            "12:\tlearn: 0.3795504\ttotal: 89ms\tremaining: 596ms\n",
            "13:\tlearn: 0.3795440\ttotal: 92.1ms\tremaining: 566ms\n",
            "14:\tlearn: 0.3747937\ttotal: 98ms\tremaining: 556ms\n",
            "15:\tlearn: 0.3684136\ttotal: 104ms\tremaining: 545ms\n",
            "16:\tlearn: 0.3684093\ttotal: 106ms\tremaining: 520ms\n",
            "17:\tlearn: 0.3620899\ttotal: 113ms\tremaining: 517ms\n",
            "18:\tlearn: 0.3611862\ttotal: 117ms\tremaining: 500ms\n",
            "19:\tlearn: 0.3593667\ttotal: 121ms\tremaining: 484ms\n",
            "20:\tlearn: 0.3587798\ttotal: 124ms\tremaining: 468ms\n",
            "21:\tlearn: 0.3557441\ttotal: 130ms\tremaining: 461ms\n",
            "22:\tlearn: 0.3517757\ttotal: 137ms\tremaining: 458ms\n",
            "23:\tlearn: 0.3471637\ttotal: 144ms\tremaining: 456ms\n",
            "24:\tlearn: 0.3462924\ttotal: 147ms\tremaining: 442ms\n",
            "25:\tlearn: 0.3461133\ttotal: 150ms\tremaining: 428ms\n",
            "26:\tlearn: 0.3452597\ttotal: 155ms\tremaining: 419ms\n",
            "27:\tlearn: 0.3445263\ttotal: 164ms\tremaining: 423ms\n",
            "28:\tlearn: 0.3431473\ttotal: 169ms\tremaining: 414ms\n",
            "29:\tlearn: 0.3425317\ttotal: 174ms\tremaining: 405ms\n",
            "30:\tlearn: 0.3419049\ttotal: 178ms\tremaining: 396ms\n",
            "31:\tlearn: 0.3414944\ttotal: 182ms\tremaining: 387ms\n",
            "32:\tlearn: 0.3401112\ttotal: 187ms\tremaining: 379ms\n",
            "33:\tlearn: 0.3390273\ttotal: 195ms\tremaining: 379ms\n",
            "34:\tlearn: 0.3381286\ttotal: 199ms\tremaining: 369ms\n",
            "35:\tlearn: 0.3379535\ttotal: 202ms\tremaining: 360ms\n",
            "36:\tlearn: 0.3372003\ttotal: 207ms\tremaining: 352ms\n",
            "37:\tlearn: 0.3368540\ttotal: 211ms\tremaining: 344ms\n",
            "38:\tlearn: 0.3345164\ttotal: 219ms\tremaining: 342ms\n",
            "39:\tlearn: 0.3312106\ttotal: 226ms\tremaining: 340ms\n",
            "40:\tlearn: 0.3312106\ttotal: 229ms\tremaining: 330ms\n",
            "41:\tlearn: 0.3302321\ttotal: 234ms\tremaining: 323ms\n",
            "42:\tlearn: 0.3298830\ttotal: 238ms\tremaining: 315ms\n",
            "43:\tlearn: 0.3288303\ttotal: 241ms\tremaining: 307ms\n",
            "44:\tlearn: 0.3276513\ttotal: 246ms\tremaining: 301ms\n",
            "45:\tlearn: 0.3249529\ttotal: 252ms\tremaining: 296ms\n",
            "46:\tlearn: 0.3221695\ttotal: 259ms\tremaining: 292ms\n",
            "47:\tlearn: 0.3217009\ttotal: 263ms\tremaining: 285ms\n",
            "48:\tlearn: 0.3215247\ttotal: 267ms\tremaining: 278ms\n",
            "49:\tlearn: 0.3215243\ttotal: 270ms\tremaining: 270ms\n",
            "50:\tlearn: 0.3208748\ttotal: 275ms\tremaining: 264ms\n",
            "51:\tlearn: 0.3208748\ttotal: 278ms\tremaining: 257ms\n",
            "52:\tlearn: 0.3205594\ttotal: 283ms\tremaining: 251ms\n",
            "53:\tlearn: 0.3205591\ttotal: 286ms\tremaining: 243ms\n",
            "54:\tlearn: 0.3203646\ttotal: 290ms\tremaining: 237ms\n",
            "55:\tlearn: 0.3193869\ttotal: 295ms\tremaining: 232ms\n",
            "56:\tlearn: 0.3193869\ttotal: 298ms\tremaining: 225ms\n",
            "57:\tlearn: 0.3190143\ttotal: 306ms\tremaining: 222ms\n",
            "58:\tlearn: 0.3186681\ttotal: 311ms\tremaining: 216ms\n",
            "59:\tlearn: 0.3178618\ttotal: 315ms\tremaining: 210ms\n",
            "60:\tlearn: 0.3176733\ttotal: 319ms\tremaining: 204ms\n",
            "61:\tlearn: 0.3176603\ttotal: 322ms\tremaining: 197ms\n",
            "62:\tlearn: 0.3135890\ttotal: 328ms\tremaining: 193ms\n",
            "63:\tlearn: 0.3135890\ttotal: 331ms\tremaining: 186ms\n",
            "64:\tlearn: 0.3099070\ttotal: 338ms\tremaining: 182ms\n",
            "65:\tlearn: 0.3098132\ttotal: 341ms\tremaining: 176ms\n",
            "66:\tlearn: 0.3097040\ttotal: 349ms\tremaining: 172ms\n",
            "67:\tlearn: 0.3078969\ttotal: 355ms\tremaining: 167ms\n",
            "68:\tlearn: 0.3071222\ttotal: 359ms\tremaining: 161ms\n",
            "69:\tlearn: 0.3059711\ttotal: 363ms\tremaining: 156ms\n",
            "70:\tlearn: 0.3053985\ttotal: 367ms\tremaining: 150ms\n",
            "71:\tlearn: 0.3053985\ttotal: 370ms\tremaining: 144ms\n",
            "72:\tlearn: 0.3052972\ttotal: 378ms\tremaining: 140ms\n",
            "73:\tlearn: 0.3040245\ttotal: 383ms\tremaining: 135ms\n",
            "74:\tlearn: 0.3040245\ttotal: 386ms\tremaining: 129ms\n",
            "75:\tlearn: 0.3012767\ttotal: 394ms\tremaining: 124ms\n",
            "76:\tlearn: 0.2993576\ttotal: 400ms\tremaining: 119ms\n",
            "77:\tlearn: 0.2979080\ttotal: 405ms\tremaining: 114ms\n",
            "78:\tlearn: 0.2976249\ttotal: 409ms\tremaining: 109ms\n",
            "79:\tlearn: 0.2976249\ttotal: 412ms\tremaining: 103ms\n",
            "80:\tlearn: 0.2961195\ttotal: 419ms\tremaining: 98.2ms\n",
            "81:\tlearn: 0.2951824\ttotal: 424ms\tremaining: 93.1ms\n",
            "82:\tlearn: 0.2938281\ttotal: 430ms\tremaining: 88.1ms\n",
            "83:\tlearn: 0.2918109\ttotal: 437ms\tremaining: 83.2ms\n",
            "84:\tlearn: 0.2917808\ttotal: 440ms\tremaining: 77.6ms\n",
            "85:\tlearn: 0.2915770\ttotal: 444ms\tremaining: 72.3ms\n",
            "86:\tlearn: 0.2904687\ttotal: 449ms\tremaining: 67.1ms\n",
            "87:\tlearn: 0.2889325\ttotal: 455ms\tremaining: 62ms\n",
            "88:\tlearn: 0.2888887\ttotal: 460ms\tremaining: 56.9ms\n",
            "89:\tlearn: 0.2888887\ttotal: 468ms\tremaining: 52ms\n",
            "90:\tlearn: 0.2887107\ttotal: 473ms\tremaining: 46.7ms\n",
            "91:\tlearn: 0.2887107\ttotal: 475ms\tremaining: 41.3ms\n",
            "92:\tlearn: 0.2858300\ttotal: 482ms\tremaining: 36.3ms\n",
            "93:\tlearn: 0.2817229\ttotal: 489ms\tremaining: 31.2ms\n",
            "94:\tlearn: 0.2812634\ttotal: 495ms\tremaining: 26ms\n",
            "95:\tlearn: 0.2811955\ttotal: 498ms\tremaining: 20.7ms\n",
            "96:\tlearn: 0.2802463\ttotal: 505ms\tremaining: 15.6ms\n",
            "97:\tlearn: 0.2790160\ttotal: 511ms\tremaining: 10.4ms\n",
            "98:\tlearn: 0.2781436\ttotal: 517ms\tremaining: 5.22ms\n",
            "99:\tlearn: 0.2781431\ttotal: 520ms\tremaining: 0us\n"
          ],
          "name": "stdout"
        },
        {
          "output_type": "execute_result",
          "data": {
            "text/plain": [
              "<catboost.core.CatBoostClassifier at 0x7f325023f450>"
            ]
          },
          "metadata": {
            "tags": []
          },
          "execution_count": 27
        }
      ]
    },
    {
      "cell_type": "code",
      "metadata": {
        "id": "WTfZF4yfbhhj"
      },
      "source": [
        "def plot_feature_importance(importance, names):\n",
        "    \n",
        "    # Create arrays from feature importance and feature names\n",
        "    feature_importance = np.array(importance)\n",
        "    feature_names = np.array(names)\n",
        "    \n",
        "    # Create a DataFrame using a Dictionary\n",
        "    data = {'feature_names':feature_names, 'feature_importance':feature_importance}\n",
        "    fi_df = pd.DataFrame(data)\n",
        "    \n",
        "    # Sort the DataFrame in order decreasing feature importance\n",
        "    fi_df.sort_values(by=['feature_importance'], ascending=False,inplace=True)\n",
        "    \n",
        "    # Define size of bar plot\n",
        "    plt.figure(figsize=(10,8))\n",
        "    # Plot Searborn bar chart\n",
        "    sns.barplot(x=fi_df['feature_importance'], y=fi_df['feature_names'])\n",
        "    # Add chart labels\n",
        "    plt.title('FEATURE IMPORTANCE')\n",
        "    plt.xlabel('FEATURE IMPORTANCE')\n",
        "    plt.ylabel('FEATURE NAMES')"
      ],
      "execution_count": null,
      "outputs": []
    },
    {
      "cell_type": "code",
      "metadata": {
        "colab": {
          "base_uri": "https://localhost:8080/",
          "height": 700
        },
        "id": "qd6KWdyKbnYd",
        "outputId": "1af5f98d-afa6-49ca-ebf5-8ee8fd7f9196"
      },
      "source": [
        "# plot the feature importance plot\n",
        "plot_feature_importance(model.get_feature_importance(train_dataset), X_train.columns)"
      ],
      "execution_count": null,
      "outputs": [
        {
          "output_type": "display_data",
          "data": {
            "image/png": "[encoded data removed]",
            "text/plain": [
              "<Figure size 1000x800 with 1 Axes>"
            ]
          },
          "metadata": {
            "tags": []
          }
        }
      ]
    },
    {
      "cell_type": "markdown",
      "metadata": {
        "id": "WsJDxIB3uSKJ"
      },
      "source": [
        "*** \n",
        "# Evaluation"
      ]
    },
    {
      "cell_type": "code",
      "metadata": {
        "id": "XyO0jzxfNdvZ"
      },
      "source": [
        "# predict on train and test sets\n",
        "pred_train = model.predict(train_dataset)\n",
        "pred_test  = model.predict(test_dataset)"
      ],
      "execution_count": null,
      "outputs": []
    },
    {
      "cell_type": "markdown",
      "metadata": {
        "id": "61FejPj9ez8C"
      },
      "source": [
        "### Evaluation on Train set"
      ]
    },
    {
      "cell_type": "code",
      "metadata": {
        "colab": {
          "base_uri": "https://localhost:8080/"
        },
        "id": "5Y4oJCi3rzS2",
        "outputId": "e6bdc1ec-5081-40fc-8e10-8dcd8e867a5c"
      },
      "source": [
        "fpr_train, tpr_train, thresh_train = metrics.roc_curve(y_trainval, pred_train)\n",
        "auc_train = round(metrics.auc(fpr_train, tpr_train), 2)\n",
        "mcc_train = round(matthews_corrcoef(y_trainval, pred_train), 2)\n",
        "f1_train  = round(f1_score(y_trainval, pred_train, average='weighted'), 2)\n",
        "rep_train = classification_report(y_trainval, pred_train)\n",
        "\n",
        "print('Evaluation Metrics for Train set:\\n')\n",
        "print('AUC on train: {}'.format(auc_train))\n",
        "print('MCC on train: {}'.format(mcc_train))\n",
        "print('F1-score on train: {}\\n'.format(f1_train))\n",
        "print(rep_train)"
      ],
      "execution_count": null,
      "outputs": [
        {
          "output_type": "stream",
          "text": [
            "Evaluation Metrics for Train set:\n",
            "\n",
            "AUC on train: 0.94\n",
            "MCC on train: 0.64\n",
            "F1-score on train: 0.94\n",
            "\n",
            "              precision    recall  f1-score   support\n",
            "\n",
            "           0       1.00      0.93      0.96     18650\n",
            "           1       0.47      0.95      0.63      1232\n",
            "\n",
            "    accuracy                           0.93     19882\n",
            "   macro avg       0.74      0.94      0.80     19882\n",
            "weighted avg       0.96      0.93      0.94     19882\n",
            "\n"
          ],
          "name": "stdout"
        }
      ]
    },
    {
      "cell_type": "markdown",
      "metadata": {
        "id": "xlE1o--Be74M"
      },
      "source": [
        "### Evaluation on Test set"
      ]
    },
    {
      "cell_type": "code",
      "metadata": {
        "colab": {
          "base_uri": "https://localhost:8080/"
        },
        "id": "5rlLeZDgQMdk",
        "outputId": "cac20bb0-a012-4d86-99fd-4828a9f94615"
      },
      "source": [
        "fpr_test, tpr_test, thresh_test = metrics.roc_curve(y_test, pred_test)\n",
        "auc_test = round(metrics.auc(fpr_test, tpr_test), 2)\n",
        "mcc_test = round(matthews_corrcoef(y_test, pred_test), 2)\n",
        "f1_test  = round(f1_score(y_test, pred_test, average='weighted'), 2)\n",
        "rep_test = classification_report(y_test, pred_test)\n",
        "\n",
        "print('Evaluation Metrics on Test set:\\n')\n",
        "print('AUC on test: {}'.format(auc_test))\n",
        "print('MCC on test: {}'.format(mcc_test))\n",
        "print('F1-score on test: {}\\n'.format(f1_test))\n",
        "print(rep_test)"
      ],
      "execution_count": null,
      "outputs": [
        {
          "output_type": "stream",
          "text": [
            "Evaluation Metrics on Test set:\n",
            "\n",
            "AUC on test: 0.8\n",
            "MCC on test: 0.49\n",
            "F1-score on test: 0.93\n",
            "\n",
            "              precision    recall  f1-score   support\n",
            "\n",
            "           0       0.98      0.94      0.96      4663\n",
            "           1       0.42      0.65      0.51       308\n",
            "\n",
            "    accuracy                           0.92      4971\n",
            "   macro avg       0.70      0.80      0.74      4971\n",
            "weighted avg       0.94      0.92      0.93      4971\n",
            "\n"
          ],
          "name": "stdout"
        }
      ]
    }
  ]
}